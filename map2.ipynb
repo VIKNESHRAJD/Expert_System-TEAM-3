{
 "cells": [
  {
   "cell_type": "code",
   "execution_count": 1,
   "id": "d1f39b40",
   "metadata": {},
   "outputs": [],
   "source": [
    "com_name=[(\"n1\",10),(\"n2\",33),(\"n3\",66),(\"n4\",55)]"
   ]
  },
  {
   "cell_type": "code",
   "execution_count": 2,
   "id": "3975441b",
   "metadata": {},
   "outputs": [
    {
     "name": "stdout",
     "output_type": "stream",
     "text": [
      "('n2', 33)\n",
      "('n3', 66)\n",
      "('n4', 55)\n"
     ]
    }
   ],
   "source": [
    "for name in com_name:\n",
    "    if name[1]>18:\n",
    "        print(name)"
   ]
  },
  {
   "cell_type": "code",
   "execution_count": 3,
   "id": "b3be36c0",
   "metadata": {},
   "outputs": [],
   "source": [
    "check=lambda data:data[1]>18"
   ]
  },
  {
   "cell_type": "code",
   "execution_count": 4,
   "id": "af5054ba",
   "metadata": {},
   "outputs": [
    {
     "data": {
      "text/plain": [
       "[False, True, True, True]"
      ]
     },
     "execution_count": 4,
     "metadata": {},
     "output_type": "execute_result"
    }
   ],
   "source": [
    "x=list(map(check,com_name))\n",
    "x"
   ]
  },
  {
   "cell_type": "code",
   "execution_count": 5,
   "id": "3c77aa19",
   "metadata": {},
   "outputs": [],
   "source": [
    "def eligibility(data):\n",
    "    if data[1]<18:\n",
    "        print(data)"
   ]
  },
  {
   "cell_type": "code",
   "execution_count": 7,
   "id": "de4a61e7",
   "metadata": {},
   "outputs": [
    {
     "name": "stdout",
     "output_type": "stream",
     "text": [
      "('n1', 10)\n"
     ]
    }
   ],
   "source": [
    "x=list((map(eligibility,com_name)))"
   ]
  },
  {
   "cell_type": "code",
   "execution_count": null,
   "id": "fa7bc17a",
   "metadata": {},
   "outputs": [],
   "source": [
    "ffgrghgbrerettewerftyhujolp;.tgujcvbm."
   ]
  }
 ],
 "metadata": {
  "kernelspec": {
   "display_name": "Python 3 (ipykernel)",
   "language": "python",
   "name": "python3"
  },
  "language_info": {
   "codemirror_mode": {
    "name": "ipython",
    "version": 3
   },
   "file_extension": ".py",
   "mimetype": "text/x-python",
   "name": "python",
   "nbconvert_exporter": "python",
   "pygments_lexer": "ipython3",
   "version": "3.9.13"
  }
 },
 "nbformat": 4,
 "nbformat_minor": 5
}
