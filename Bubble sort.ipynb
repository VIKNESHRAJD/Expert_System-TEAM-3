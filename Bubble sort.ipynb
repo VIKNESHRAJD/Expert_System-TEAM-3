{
 "cells": [
  {
   "cell_type": "markdown",
   "id": "fe298016",
   "metadata": {},
   "source": [
    "# BUBBLE SORT"
   ]
  },
  {
   "cell_type": "code",
   "execution_count": 3,
   "id": "6dcb215e",
   "metadata": {},
   "outputs": [
    {
     "name": "stdout",
     "output_type": "stream",
     "text": [
      "Before Sorting the Array in Ascending Order:\n",
      "[-2, 45, 0, 11, 9, 15, -11, 21, 12]\n",
      "After Before Sorting the Array in Ascending Order:\n",
      "[-11, -2, 0, 9, 11, 12, 15, 21, 45]\n"
     ]
    }
   ],
   "source": [
    "def bubbleSort(data):\n",
    "    \n",
    "    for i in range(len(data)):\n",
    "        \n",
    "        for j in range(0, len(data) - i - 1):\n",
    "            \n",
    "            if data[j] > data[j + 1]:\n",
    "             \n",
    "                temp = data[j]\n",
    "                data  [j] = data [j + 1]\n",
    "                data [j + 1] = temp\n",
    "        \n",
    "data = [-2, 45, 0, 11, 9, 15, -11, 21, 12]\n",
    "\n",
    "print('Before Sorting the Array in Ascending Order:')\n",
    "print(data)\n",
    "\n",
    "bubbleSort(data)\n",
    "\n",
    "print('After Before Sorting the Array in Ascending Order:')\n",
    "print(data) \n"
   ]
  },
  {
   "cell_type": "code",
   "execution_count": null,
   "id": "488b827d",
   "metadata": {},
   "outputs": [],
   "source": []
  },
  {
   "cell_type": "code",
   "execution_count": 5,
   "id": "6a4de001",
   "metadata": {},
   "outputs": [
    {
     "name": "stdout",
     "output_type": "stream",
     "text": [
      "Before Sorting the Array in Descending Order:\n",
      "[-2, 45, 0, 11, 9, 15, -11, 21, 12]\n",
      "After Before Sorting the Array in Descending Order:\n",
      "[45, 21, 15, 12, 11, 9, 0, -2, -11]\n"
     ]
    }
   ],
   "source": [
    "def bubbleSort(data):\n",
    "    \n",
    "    for i in range(len(data)):\n",
    "        \n",
    "        for j in range(0, len(data) - i - 1):\n",
    "            \n",
    "            if data[j] < data[j + 1]:\n",
    "             \n",
    "                temp = data[j]\n",
    "                data  [j] = data [j + 1]\n",
    "                data [j + 1] = temp\n",
    "        \n",
    "data = [-2, 45, 0, 11, 9, 15, -11, 21, 12]\n",
    "\n",
    "print('Before Sorting the Array in Descending Order:')\n",
    "print(data)\n",
    "\n",
    "bubbleSort(data)\n",
    "\n",
    "print('After Before Sorting the Array in Descending Order:')\n",
    "print(data) \n"
   ]
  },
  {
   "cell_type": "code",
   "execution_count": null,
   "id": "b13e2d2e",
   "metadata": {},
   "outputs": [],
   "source": []
  },
  {
   "cell_type": "code",
   "execution_count": 10,
   "id": "be73b648",
   "metadata": {},
   "outputs": [
    {
     "name": "stdout",
     "output_type": "stream",
     "text": [
      "Non-Sorted array is:\n",
      " 64  34  25  12  22  11  10  90  11  125  242344  56 \n",
      "Sorted array is:\n",
      " 10  11  11  12  22  25  34  56  64  90  125  242344 "
     ]
    }
   ],
   "source": [
    "def bubbleSort(arr):\n",
    "    n = len (arr)\n",
    "    \n",
    "    swapped = False\n",
    "    \n",
    "    for i in range(n-1):\n",
    "        \n",
    "        for j in range(0, n-i-1):\n",
    "             if arr[j] > arr[j + 1]:\n",
    "                    swapped = True \n",
    "                    arr[j], arr[j + 1] = arr[j + 1], arr[j]\n",
    "                    \n",
    "    if not swapped:\n",
    "        \n",
    "        return\n",
    "    \n",
    "arr = [64, 34, 25, 12, 22, 11, 10, 90,11,125,242344,56]\n",
    "\n",
    "print(\"Non-Sorted array is:\")\n",
    "for i in range(len(arr)):\n",
    "    print(\"% d\" % arr[i], end=\" \")\n",
    "    \n",
    "bubbleSort(arr)\n",
    "print(\"\\nSorted array is:\")\n",
    "for i in range(len(arr)):\n",
    "    print(\"% d\" % arr[i], end=\" \")"
   ]
  },
  {
   "cell_type": "code",
   "execution_count": null,
   "id": "8402778e",
   "metadata": {},
   "outputs": [],
   "source": []
  }
 ],
 "metadata": {
  "kernelspec": {
   "display_name": "Python 3 (ipykernel)",
   "language": "python",
   "name": "python3"
  },
  "language_info": {
   "codemirror_mode": {
    "name": "ipython",
    "version": 3
   },
   "file_extension": ".py",
   "mimetype": "text/x-python",
   "name": "python",
   "nbconvert_exporter": "python",
   "pygments_lexer": "ipython3",
   "version": "3.9.13"
  }
 },
 "nbformat": 4,
 "nbformat_minor": 5
}
