{
 "cells": [
  {
   "cell_type": "markdown",
   "id": "e6a86d20",
   "metadata": {},
   "source": [
    "# STRING PY1"
   ]
  },
  {
   "cell_type": "code",
   "execution_count": 1,
   "id": "6d6268b9",
   "metadata": {},
   "outputs": [
    {
     "name": "stdout",
     "output_type": "stream",
     "text": [
      "hola guten morgen\n"
     ]
    }
   ],
   "source": [
    "print(\"hola guten morgen\")"
   ]
  },
  {
   "cell_type": "code",
   "execution_count": 2,
   "id": "ed7f3418",
   "metadata": {},
   "outputs": [
    {
     "name": "stdout",
     "output_type": "stream",
     "text": [
      "10\n"
     ]
    }
   ],
   "source": [
    "print(10)"
   ]
  },
  {
   "cell_type": "code",
   "execution_count": 37,
   "id": "56a82698",
   "metadata": {},
   "outputs": [
    {
     "name": "stdout",
     "output_type": "stream",
     "text": [
      "\n"
     ]
    }
   ],
   "source": [
    "print(                                   )"
   ]
  },
  {
   "cell_type": "code",
   "execution_count": 9,
   "id": "59f58cf4",
   "metadata": {},
   "outputs": [
    {
     "name": "stdout",
     "output_type": "stream",
     "text": [
      "liver pool\n"
     ]
    }
   ],
   "source": [
    "print(\"liver pool\")"
   ]
  },
  {
   "cell_type": "code",
   "execution_count": 13,
   "id": "2863bdbd",
   "metadata": {},
   "outputs": [
    {
     "name": "stdout",
     "output_type": "stream",
     "text": [
      "marvel 22\n"
     ]
    }
   ],
   "source": [
    "print(\"marvel\",\"22\")"
   ]
  },
  {
   "cell_type": "code",
   "execution_count": 18,
   "id": "83990cfe",
   "metadata": {},
   "outputs": [
    {
     "name": "stdout",
     "output_type": "stream",
     "text": [
      "FRANCISLEO\n"
     ]
    }
   ],
   "source": [
    "print(\"FRANCIS{}\".format('LEO'))"
   ]
  },
  {
   "cell_type": "code",
   "execution_count": 21,
   "id": "1452507c",
   "metadata": {},
   "outputs": [
    {
     "name": "stdout",
     "output_type": "stream",
     "text": [
      "Mes Que Un Club 1899\n"
     ]
    }
   ],
   "source": [
    "print(\"Mes Que Un Club{}\".format(' 1899'))"
   ]
  },
  {
   "cell_type": "code",
   "execution_count": 32,
   "id": "c83fa287",
   "metadata": {},
   "outputs": [
    {
     "name": "stdout",
     "output_type": "stream",
     "text": [
      "THE QUANTAMANIA Kang , WASP Mulitiverse doc Ant man  \n"
     ]
    }
   ],
   "source": [
    "print(\"THE QUANTAMANIA {1} {3} {2} {4} {0} \".format('Ant man ','Kang ,','Mulitiverse','WASP','doc'))"
   ]
  },
  {
   "cell_type": "code",
   "execution_count": 48,
   "id": "6c976e00",
   "metadata": {},
   "outputs": [
    {
     "name": "stdout",
     "output_type": "stream",
     "text": [
      "Top Clubs arsenel , liv , mancity \n"
     ]
    }
   ],
   "source": [
    "print(\"Top Clubs {z} , {x} , {y} \".format(x='liv',y='mancity',z='arsenel'))"
   ]
  },
  {
   "cell_type": "code",
   "execution_count": 49,
   "id": "529e6c5b",
   "metadata": {},
   "outputs": [
    {
     "name": "stdout",
     "output_type": "stream",
     "text": [
      "THE ARGENTINA are ARGENTINA world  champions\n"
     ]
    }
   ],
   "source": [
    "print(\"THE {a} are {a} world  champions\".format(a= 'ARGENTINA'))"
   ]
  },
  {
   "cell_type": "code",
   "execution_count": null,
   "id": "49757882",
   "metadata": {},
   "outputs": [],
   "source": []
  }
 ],
 "metadata": {
  "kernelspec": {
   "display_name": "Python 3 (ipykernel)",
   "language": "python",
   "name": "python3"
  },
  "language_info": {
   "codemirror_mode": {
    "name": "ipython",
    "version": 3
   },
   "file_extension": ".py",
   "mimetype": "text/x-python",
   "name": "python",
   "nbconvert_exporter": "python",
   "pygments_lexer": "ipython3",
   "version": "3.9.13"
  }
 },
 "nbformat": 4,
 "nbformat_minor": 5
}
