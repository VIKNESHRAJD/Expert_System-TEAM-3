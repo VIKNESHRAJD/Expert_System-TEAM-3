{
 "cells": [
  {
   "cell_type": "markdown",
   "id": "a944a502",
   "metadata": {},
   "source": [
    "# GUI"
   ]
  },
  {
   "cell_type": "code",
   "execution_count": 1,
   "id": "e93d6b7b",
   "metadata": {},
   "outputs": [],
   "source": [
    "import tkinter as tk"
   ]
  },
  {
   "cell_type": "code",
   "execution_count": 2,
   "id": "0fead1cd",
   "metadata": {},
   "outputs": [],
   "source": [
    "root = tk.Tk()"
   ]
  },
  {
   "cell_type": "code",
   "execution_count": 3,
   "id": "326ee468",
   "metadata": {},
   "outputs": [],
   "source": [
    "myButton1 = tk.Button(root, text=\"click ON\", padx=70 ,pady=80)"
   ]
  },
  {
   "cell_type": "code",
   "execution_count": 4,
   "id": "68fae365",
   "metadata": {},
   "outputs": [],
   "source": [
    "myButton2 = tk.Button(root, text=\"click OFF\")"
   ]
  },
  {
   "cell_type": "code",
   "execution_count": 5,
   "id": "ab0be9ec",
   "metadata": {},
   "outputs": [],
   "source": [
    "myButton3 = tk.Button(root, text=\"click RUN\")"
   ]
  },
  {
   "cell_type": "code",
   "execution_count": 6,
   "id": "03a0624e",
   "metadata": {},
   "outputs": [],
   "source": [
    "myButton1.pack()"
   ]
  },
  {
   "cell_type": "code",
   "execution_count": 7,
   "id": "c74585a6",
   "metadata": {},
   "outputs": [],
   "source": [
    "myButton2.pack()"
   ]
  },
  {
   "cell_type": "code",
   "execution_count": 8,
   "id": "2f4c47e0",
   "metadata": {},
   "outputs": [],
   "source": [
    "myButton3.pack()"
   ]
  },
  {
   "cell_type": "code",
   "execution_count": 9,
   "id": "6820c802",
   "metadata": {},
   "outputs": [
    {
     "data": {
      "text/plain": [
       "''"
      ]
     },
     "execution_count": 9,
     "metadata": {},
     "output_type": "execute_result"
    }
   ],
   "source": [
    "root.title(\"welcome to the AI class\")"
   ]
  },
  {
   "cell_type": "code",
   "execution_count": 10,
   "id": "567f29a4",
   "metadata": {},
   "outputs": [],
   "source": [
    "def myclick():\n",
    "    mylabel4 = tk.Label(root, text=\"Clicked on Button\")\n",
    "    mylabel4.pack()"
   ]
  },
  {
   "cell_type": "code",
   "execution_count": 11,
   "id": "b2b4905d",
   "metadata": {},
   "outputs": [],
   "source": [
    "myButton = tk.Button(root, text=\"Click Me\", command = myclick)"
   ]
  },
  {
   "cell_type": "code",
   "execution_count": null,
   "id": "e138b37e",
   "metadata": {},
   "outputs": [],
   "source": [
    "myButton = tk.Button(root, text=\"Click Me\", command = myclick,fg='blue',bg='red')"
   ]
  },
  {
   "cell_type": "code",
   "execution_count": 12,
   "id": "de40a9fd",
   "metadata": {},
   "outputs": [],
   "source": [
    "myButton.pack()"
   ]
  },
  {
   "cell_type": "code",
   "execution_count": 13,
   "id": "464d893e",
   "metadata": {},
   "outputs": [],
   "source": [
    "root.mainloop()"
   ]
  },
  {
   "cell_type": "code",
   "execution_count": null,
   "id": "2e17cad1",
   "metadata": {},
   "outputs": [],
   "source": []
  }
 ],
 "metadata": {
  "kernelspec": {
   "display_name": "Python 3 (ipykernel)",
   "language": "python",
   "name": "python3"
  },
  "language_info": {
   "codemirror_mode": {
    "name": "ipython",
    "version": 3
   },
   "file_extension": ".py",
   "mimetype": "text/x-python",
   "name": "python",
   "nbconvert_exporter": "python",
   "pygments_lexer": "ipython3",
   "version": "3.9.15"
  }
 },
 "nbformat": 4,
 "nbformat_minor": 5
}
