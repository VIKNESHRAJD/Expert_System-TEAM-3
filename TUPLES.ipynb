{
 "cells": [
  {
   "cell_type": "markdown",
   "id": "ea551cca",
   "metadata": {},
   "source": [
    "# TUPLES OPERATIONS"
   ]
  },
  {
   "cell_type": "code",
   "execution_count": 1,
   "id": "61aa86cf",
   "metadata": {},
   "outputs": [],
   "source": [
    "tesla =(\"nikola\",1,2,3,4,\"tesaract\",2,4,8,10)"
   ]
  },
  {
   "cell_type": "code",
   "execution_count": 2,
   "id": "7a451b6c",
   "metadata": {},
   "outputs": [
    {
     "data": {
      "text/plain": [
       "10"
      ]
     },
     "execution_count": 2,
     "metadata": {},
     "output_type": "execute_result"
    }
   ],
   "source": [
    "len(tesla)"
   ]
  },
  {
   "cell_type": "code",
   "execution_count": 3,
   "id": "78b74b17",
   "metadata": {},
   "outputs": [
    {
     "data": {
      "text/plain": [
       "tuple"
      ]
     },
     "execution_count": 3,
     "metadata": {},
     "output_type": "execute_result"
    }
   ],
   "source": [
    "type(tesla)"
   ]
  },
  {
   "cell_type": "code",
   "execution_count": 4,
   "id": "d484af37",
   "metadata": {},
   "outputs": [],
   "source": [
    "tesla =[\"nikola\",1,2,3,4,\"tesaract\",2,4,8,10]"
   ]
  },
  {
   "cell_type": "code",
   "execution_count": 5,
   "id": "bb5db862",
   "metadata": {},
   "outputs": [
    {
     "data": {
      "text/plain": [
       "list"
      ]
     },
     "execution_count": 5,
     "metadata": {},
     "output_type": "execute_result"
    }
   ],
   "source": [
    "type(tesla)"
   ]
  },
  {
   "cell_type": "code",
   "execution_count": null,
   "id": "7c407a51",
   "metadata": {},
   "outputs": [],
   "source": []
  },
  {
   "cell_type": "code",
   "execution_count": null,
   "id": "1d4b50cc",
   "metadata": {},
   "outputs": [],
   "source": []
  }
 ],
 "metadata": {
  "kernelspec": {
   "display_name": "Python 3 (ipykernel)",
   "language": "python",
   "name": "python3"
  },
  "language_info": {
   "codemirror_mode": {
    "name": "ipython",
    "version": 3
   },
   "file_extension": ".py",
   "mimetype": "text/x-python",
   "name": "python",
   "nbconvert_exporter": "python",
   "pygments_lexer": "ipython3",
   "version": "3.9.13"
  }
 },
 "nbformat": 4,
 "nbformat_minor": 5
}
