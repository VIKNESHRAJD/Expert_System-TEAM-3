{
 "cells": [
  {
   "cell_type": "markdown",
   "id": "42b15d5f",
   "metadata": {},
   "source": [
    "# EXPERT SYSTERM "
   ]
  },
  {
   "cell_type": "code",
   "execution_count": null,
   "id": "45942aee",
   "metadata": {},
   "outputs": [
    {
     "name": "stdout",
     "output_type": "stream",
     "text": [
      "welcome to the COVID vaccination form\n"
     ]
    }
   ],
   "source": [
    "print(\"welcome to the COVID vaccination form\")\n",
    "name = input(\"please enter your name: \")\n",
    "age = int(input(\"please enter your age: \"))\n",
    "\n",
    "if age >= 18:\n",
    "    print(\"For the following questions please enter either yes or no.\")\n",
    "    vac = input(\"Have you received your first vaccination shot? \")\n",
    "    trip = input(\"Have you travelled abroad? \")\n",
    "    sym = input(\"Have you had any COVID symptoms in the last 14 days? \")\n",
    "    pos = input(\"Have you BEEN COVID positive in the last week? \")\n",
    "else:\n",
    "    print(\"You are not old enough to get vaccinated.\")\n",
    "\n",
    "if vac == 'yes' and trip == 'no' and pos == 'no':\n",
    "    if sym == 'no':\n",
    "        print(\"you can get your second shot\")\n",
    "    else:        \n",
    "        print(\"You can get your second shot but do keep note of the symptoms\")\n",
    "        print(\"if they persist do check with a doctor\")\n",
    "elif vac == 'yes' and pos == 'yes' and (trip == 'yes' or trip == 'no'):\n",
    "    print(\"As you had a COVID Positive report, please do get vaccinated after 3 months of negative record.\")\n",
    "elif vac == 'yes' and trip == 'yes' and pos == 'no':  \n",
    "    if sym == 'no':\n",
    "        print(\"you can get your second shot\")\n",
    "    else:        \n",
    "        print(\"You can get your second shot but do keep note of the symptoms\")\n",
    "        print(\"if they persist do check with a doctor\")\n",
    "elif vac == 'yes' and trip == 'yes' and pos == 'no':\n",
    "    if sym == 'no':\n",
    "        print(\"you can get your first shot\")\n",
    "    else:\n",
    "        print(\"you can get your first shot but do keep note of the symptoms\")\n",
    "        print(\"If they persist do check with a doctor\")\n",
    "elif vac == 'no' and pos == 'yes' and (trip == 'yes' or trip == 'no'):\n",
    "    print(\"As you had a COVID Positive report, please do get vaccinated after 3 months of negative record.\")\n",
    "elif vac == 'yes' and trip == 'yes' and pos == 'no':\n",
    "    if sym == 'no':\n",
    "        print(\"you can get your first shot\")\n",
    "    else:\n",
    "        print(\"you can get your first shot but do keep note of the symptoms\")\n",
    "        print(\"If they persist do check with a doctor\")"
   ]
  },
  {
   "cell_type": "code",
   "execution_count": null,
   "id": "19f1f312",
   "metadata": {},
   "outputs": [],
   "source": []
  },
  {
   "cell_type": "code",
   "execution_count": 1,
   "id": "d8876ac6",
   "metadata": {},
   "outputs": [
    {
     "name": "stdout",
     "output_type": "stream",
     "text": [
      "Welcome to the Vaccine Recommendation System\n",
      "Please enter your age: 18\n",
      "Have you received the COVID-19 vaccine? (yes/no) no\n",
      "You are eligible for the COVID-19 vaccine. Please make an appointment with your healthcare provider or visit a local vaccine clinic.\n"
     ]
    }
   ],
   "source": [
    "print(\"Welcome to the Vaccine Recommendation System\")\n",
    "age = int(input(\"Please enter your age: \"))\n",
    "vaccine_status = input(\"Have you received the COVID-19 vaccine? (yes/no) \")\n",
    "\n",
    "if vaccine_status.lower() == 'yes':\n",
    "    print(\"Great! You should continue to follow local health guidelines and recommendations.\")\n",
    "else:\n",
    "    if age >= 16:\n",
    "        print(\"You are eligible for the COVID-19 vaccine. Please make an appointment with your healthcare provider or visit a local vaccine clinic.\")\n",
    "    else:\n",
    "        print(\"Sorry, you are not yet eligible for the COVID-19 vaccine. Please continue to follow local health guidelines and recommendations.\")\n"
   ]
  },
  {
   "cell_type": "code",
   "execution_count": null,
   "id": "96611bdb",
   "metadata": {},
   "outputs": [],
   "source": []
  },
  {
   "cell_type": "code",
   "execution_count": null,
   "id": "6f6d6811",
   "metadata": {},
   "outputs": [],
   "source": []
  },
  {
   "cell_type": "code",
   "execution_count": null,
   "id": "7d8a2025",
   "metadata": {},
   "outputs": [],
   "source": []
  },
  {
   "cell_type": "code",
   "execution_count": null,
   "id": "659d60d4",
   "metadata": {},
   "outputs": [],
   "source": []
  }
 ],
 "metadata": {
  "kernelspec": {
   "display_name": "Python 3 (ipykernel)",
   "language": "python",
   "name": "python3"
  },
  "language_info": {
   "codemirror_mode": {
    "name": "ipython",
    "version": 3
   },
   "file_extension": ".py",
   "mimetype": "text/x-python",
   "name": "python",
   "nbconvert_exporter": "python",
   "pygments_lexer": "ipython3",
   "version": "3.9.13"
  }
 },
 "nbformat": 4,
 "nbformat_minor": 5
}
