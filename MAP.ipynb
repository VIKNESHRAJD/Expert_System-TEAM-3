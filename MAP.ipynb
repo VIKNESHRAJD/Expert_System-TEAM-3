{
 "cells": [
  {
   "cell_type": "markdown",
   "id": "55be70fd",
   "metadata": {},
   "source": [
    "# MAPPING "
   ]
  },
  {
   "cell_type": "code",
   "execution_count": 3,
   "id": "59b72525",
   "metadata": {},
   "outputs": [],
   "source": [
    "Name_list=[(\"n1\",10),(\"n2\",22),(\"n3\",15),(\"n4\",17)]"
   ]
  },
  {
   "cell_type": "code",
   "execution_count": 4,
   "id": "88007810",
   "metadata": {},
   "outputs": [
    {
     "name": "stdout",
     "output_type": "stream",
     "text": [
      "('n2', 22)\n"
     ]
    }
   ],
   "source": [
    "for name in Name_list:\n",
    "    if name[1]>18:\n",
    "        print(name)"
   ]
  },
  {
   "cell_type": "code",
   "execution_count": 5,
   "id": "6f2f588b",
   "metadata": {},
   "outputs": [],
   "source": [
    "check=lambda data:data[1]>=15"
   ]
  },
  {
   "cell_type": "code",
   "execution_count": 6,
   "id": "bc10953c",
   "metadata": {},
   "outputs": [
    {
     "data": {
      "text/plain": [
       "[False, True, True, True]"
      ]
     },
     "execution_count": 6,
     "metadata": {},
     "output_type": "execute_result"
    }
   ],
   "source": [
    "x=list(map(check,Name_list))\n",
    "x"
   ]
  },
  {
   "cell_type": "code",
   "execution_count": 7,
   "id": "9a229184",
   "metadata": {},
   "outputs": [],
   "source": [
    "def eligibility (data):\n",
    "    if data[1]<18:\n",
    "        print(data)"
   ]
  },
  {
   "cell_type": "code",
   "execution_count": 9,
   "id": "b0a17586",
   "metadata": {},
   "outputs": [
    {
     "name": "stdout",
     "output_type": "stream",
     "text": [
      "('n1', 10)\n",
      "('n3', 15)\n",
      "('n4', 17)\n"
     ]
    }
   ],
   "source": [
    "x=list((map(eligibility,Name_list)))"
   ]
  },
  {
   "cell_type": "code",
   "execution_count": null,
   "id": "385806a8",
   "metadata": {},
   "outputs": [],
   "source": []
  }
 ],
 "metadata": {
  "kernelspec": {
   "display_name": "Python 3 (ipykernel)",
   "language": "python",
   "name": "python3"
  },
  "language_info": {
   "codemirror_mode": {
    "name": "ipython",
    "version": 3
   },
   "file_extension": ".py",
   "mimetype": "text/x-python",
   "name": "python",
   "nbconvert_exporter": "python",
   "pygments_lexer": "ipython3",
   "version": "3.9.13"
  }
 },
 "nbformat": 4,
 "nbformat_minor": 5
}
