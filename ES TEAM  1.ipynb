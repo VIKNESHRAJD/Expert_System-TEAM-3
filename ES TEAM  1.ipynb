{
 "cells": [
  {
   "cell_type": "markdown",
   "id": "a8755f91",
   "metadata": {},
   "source": [
    "# EXPERT SYSTEM \n"
   ]
  },
  {
   "cell_type": "code",
   "execution_count": 1,
   "id": "51ad01d9",
   "metadata": {},
   "outputs": [
    {
     "name": "stdout",
     "output_type": "stream",
     "text": [
      "Welcome to the job application form\n",
      "Please enter your name: MONISHA\n",
      "Please enter your age: 17\n",
      "Please enter the number of years of experience you have: 2\n",
      "You are not old enough to apply for this job.\n"
     ]
    }
   ],
   "source": [
    "print(\"Welcome to the job application form\")\n",
    "name = input(\"Please enter your name: \")\n",
    "age = int(input(\"Please enter your age: \"))\n",
    "experience = int(input(\"Please enter the number of years of experience you have: \"))\n",
    "\n",
    "if age < 18:\n",
    "    print(\"You are not old enough to apply for this job.\")\n",
    "elif experience < 0:\n",
    "    print(\"Invalid experience level.\")\n",
    "elif experience >= 0 and experience < 2:\n",
    "    print(\"You are eligible for entry-level positions.\")\n",
    "elif experience >= 2 and experience < 5:\n",
    "    print(\"You are eligible for mid-level positions.\")\n",
    "elif experience >= 5:\n",
    "    print(\"You are eligible for senior-level positions.\")\n",
    "else:\n",
    "    print(\"Invalid experience level.\")\n",
    "\n"
   ]
  },
  {
   "cell_type": "code",
   "execution_count": null,
   "id": "e1e48536",
   "metadata": {},
   "outputs": [],
   "source": []
  }
 ],
 "metadata": {
  "kernelspec": {
   "display_name": "Python 3 (ipykernel)",
   "language": "python",
   "name": "python3"
  },
  "language_info": {
   "codemirror_mode": {
    "name": "ipython",
    "version": 3
   },
   "file_extension": ".py",
   "mimetype": "text/x-python",
   "name": "python",
   "nbconvert_exporter": "python",
   "pygments_lexer": "ipython3",
   "version": "3.9.13"
  }
 },
 "nbformat": 4,
 "nbformat_minor": 5
}
