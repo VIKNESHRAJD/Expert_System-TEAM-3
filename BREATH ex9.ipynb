{
 "cells": [
  {
   "cell_type": "code",
   "execution_count": 1,
   "id": "1790384c",
   "metadata": {},
   "outputs": [],
   "source": [
    "My_adj={\n",
    "    'start':['A','B'],\n",
    "    'A':['Start','E','F'],\n",
    "    'B':['Start','D','C'],\n",
    "    'C':['B'],\n",
    "    'D':['B','GOAL'],\n",
    "    'E':['B','G'],\n",
    "    'F':['B'],\n",
    "    'G':['E']\n",
    "}"
   ]
  },
  {
   "cell_type": "code",
   "execution_count": 2,
   "id": "ff113c0b",
   "metadata": {},
   "outputs": [],
   "source": [
    "from collections import deque"
   ]
  },
  {
   "cell_type": "code",
   "execution_count": 3,
   "id": "02ae42a2",
   "metadata": {},
   "outputs": [],
   "source": [
    "Q=deque([\"a\",\"b\",\"c\",\"d\",\"e\"])\n"
   ]
  },
  {
   "cell_type": "code",
   "execution_count": 4,
   "id": "19439dd2",
   "metadata": {},
   "outputs": [],
   "source": [
    "Q.appendleft(\"0\")"
   ]
  },
  {
   "cell_type": "code",
   "execution_count": 5,
   "id": "774c11d4",
   "metadata": {},
   "outputs": [
    {
     "data": {
      "text/plain": [
       "deque(['0', 'a', 'b', 'c', 'd', 'e'])"
      ]
     },
     "execution_count": 5,
     "metadata": {},
     "output_type": "execute_result"
    }
   ],
   "source": [
    "Q"
   ]
  },
  {
   "cell_type": "code",
   "execution_count": 6,
   "id": "075ff89c",
   "metadata": {},
   "outputs": [],
   "source": [
    "Q.append(\"f\")"
   ]
  },
  {
   "cell_type": "code",
   "execution_count": 7,
   "id": "df43a568",
   "metadata": {},
   "outputs": [
    {
     "data": {
      "text/plain": [
       "deque(['0', 'a', 'b', 'c', 'd', 'e', 'f'])"
      ]
     },
     "execution_count": 7,
     "metadata": {},
     "output_type": "execute_result"
    }
   ],
   "source": [
    "Q"
   ]
  },
  {
   "cell_type": "code",
   "execution_count": 8,
   "id": "d5145d7d",
   "metadata": {},
   "outputs": [
    {
     "data": {
      "text/plain": [
       "'f'"
      ]
     },
     "execution_count": 8,
     "metadata": {},
     "output_type": "execute_result"
    }
   ],
   "source": [
    "Q.pop()"
   ]
  },
  {
   "cell_type": "code",
   "execution_count": 9,
   "id": "2dd3e170",
   "metadata": {},
   "outputs": [
    {
     "data": {
      "text/plain": [
       "deque(['0', 'a', 'b', 'c', 'd', 'e'])"
      ]
     },
     "execution_count": 9,
     "metadata": {},
     "output_type": "execute_result"
    }
   ],
   "source": [
    "Q"
   ]
  },
  {
   "cell_type": "code",
   "execution_count": null,
   "id": "1f3511fc",
   "metadata": {},
   "outputs": [],
   "source": []
  },
  {
   "cell_type": "code",
   "execution_count": 10,
   "id": "e3ffd932",
   "metadata": {},
   "outputs": [],
   "source": [
    "graph={\n",
    "    'sam':['Aaron','Binny'],\n",
    "    'Aaron':['sam','Christine','Danny'],\n",
    "    'Binny':['Elvin','Flin'],\n",
    "    'Christine':['Aaron'],\n",
    "    'Danny':['Aaron'],\n",
    "    'Elvin':['Binny','Gini'],\n",
    "    'Flin':['Binny'],\n",
    "    'Gini':['Elivin']\n",
    "}"
   ]
  },
  {
   "cell_type": "code",
   "execution_count": 15,
   "id": "477e1823",
   "metadata": {},
   "outputs": [],
   "source": [
    "from collections import deque\n",
    "def bfs(graph,start,goal):\n",
    "    visited=[]\n",
    "    queue=deque([start])\n",
    "    while queue:\n",
    "        node=queue.popleft()\n",
    "        if node not in visited:\n",
    "            visited.append(node)\n",
    "            print(\"I have visited:\",node)\n",
    "            neighbour=graph[node]\n",
    "            if node==goal:\n",
    "                return(\"I have reached the goal, this is my traversed path:\",visited)\n",
    "            for neighbour in neighbour:\n",
    "                queue.append(neighbour)"
   ]
  },
  {
   "cell_type": "code",
   "execution_count": 16,
   "id": "750a7bbe",
   "metadata": {},
   "outputs": [
    {
     "name": "stdout",
     "output_type": "stream",
     "text": [
      "I have visited: Aaron\n",
      "I have visited: sam\n",
      "I have visited: Christine\n",
      "I have visited: Danny\n",
      "I have visited: Binny\n",
      "I have visited: Elvin\n",
      "I have visited: Flin\n",
      "I have visited: Gini\n"
     ]
    },
    {
     "data": {
      "text/plain": [
       "('I have reached the goal, this is my traversed path:',\n",
       " ['Aaron', 'sam', 'Christine', 'Danny', 'Binny', 'Elvin', 'Flin', 'Gini'])"
      ]
     },
     "execution_count": 16,
     "metadata": {},
     "output_type": "execute_result"
    }
   ],
   "source": [
    "bfs(graph,'Aaron','Gini')"
   ]
  },
  {
   "cell_type": "code",
   "execution_count": null,
   "id": "fecc4097",
   "metadata": {},
   "outputs": [],
   "source": []
  },
  {
   "cell_type": "code",
   "execution_count": null,
   "id": "c81dc6d3",
   "metadata": {},
   "outputs": [],
   "source": []
  },
  {
   "cell_type": "code",
   "execution_count": null,
   "id": "4b41ac2f",
   "metadata": {},
   "outputs": [],
   "source": []
  }
 ],
 "metadata": {
  "kernelspec": {
   "display_name": "Python 3 (ipykernel)",
   "language": "python",
   "name": "python3"
  },
  "language_info": {
   "codemirror_mode": {
    "name": "ipython",
    "version": 3
   },
   "file_extension": ".py",
   "mimetype": "text/x-python",
   "name": "python",
   "nbconvert_exporter": "python",
   "pygments_lexer": "ipython3",
   "version": "3.9.15"
  }
 },
 "nbformat": 4,
 "nbformat_minor": 5
}
