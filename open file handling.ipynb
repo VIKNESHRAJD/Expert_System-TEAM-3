{
 "cells": [
  {
   "cell_type": "code",
   "execution_count": 5,
   "id": "8e300a9c",
   "metadata": {},
   "outputs": [],
   "source": [
    "file=open(\"OPEN1.txt\")"
   ]
  },
  {
   "cell_type": "code",
   "execution_count": 8,
   "id": "3ade77fb",
   "metadata": {},
   "outputs": [],
   "source": [
    "file=open(\"OPEN3.txt\",\"x\")"
   ]
  },
  {
   "cell_type": "code",
   "execution_count": 9,
   "id": "57054dab",
   "metadata": {},
   "outputs": [],
   "source": [
    "file.close()"
   ]
  },
  {
   "cell_type": "code",
   "execution_count": null,
   "id": "d727f374",
   "metadata": {},
   "outputs": [],
   "source": [
    "f=open(\"OPEN1.txt\")"
   ]
  }
 ],
 "metadata": {
  "kernelspec": {
   "display_name": "Python 3 (ipykernel)",
   "language": "python",
   "name": "python3"
  },
  "language_info": {
   "codemirror_mode": {
    "name": "ipython",
    "version": 3
   },
   "file_extension": ".py",
   "mimetype": "text/x-python",
   "name": "python",
   "nbconvert_exporter": "python",
   "pygments_lexer": "ipython3",
   "version": "3.9.13"
  }
 },
 "nbformat": 4,
 "nbformat_minor": 5
}
