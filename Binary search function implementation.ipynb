{
 "cells": [
  {
   "cell_type": "markdown",
   "id": "e1fc7aee",
   "metadata": {},
   "source": [
    "## Creating DATASET\n"
   ]
  },
  {
   "cell_type": "code",
   "execution_count": 1,
   "id": "d5a6f133",
   "metadata": {},
   "outputs": [],
   "source": [
    "data = [30,31,18,15,20,19,11,1,9,10,7,6,4,5,16,12,22,25,27,28,35,33,32,38,37,21]"
   ]
  },
  {
   "cell_type": "code",
   "execution_count": 2,
   "id": "034dbbd0",
   "metadata": {},
   "outputs": [],
   "source": [
    "data.sort()"
   ]
  },
  {
   "cell_type": "code",
   "execution_count": 3,
   "id": "4aef07ec",
   "metadata": {},
   "outputs": [
    {
     "name": "stdout",
     "output_type": "stream",
     "text": [
      "[1, 4, 5, 6, 7, 9, 10, 11, 12, 15, 16, 18, 19, 20, 21, 22, 25, 27, 28, 30, 31, 32, 33, 35, 37, 38]\n"
     ]
    }
   ],
   "source": [
    "print(data)"
   ]
  },
  {
   "cell_type": "code",
   "execution_count": 4,
   "id": "abd20f2c",
   "metadata": {},
   "outputs": [
    {
     "name": "stdout",
     "output_type": "stream",
     "text": [
      "Enter the search element:30\n"
     ]
    }
   ],
   "source": [
    "elem = int(input(\"Enter the search element:\"))"
   ]
  },
  {
   "cell_type": "code",
   "execution_count": 6,
   "id": "40ee3d87",
   "metadata": {},
   "outputs": [],
   "source": [
    "def binary_search (data, elem):\n",
    "    \n",
    "    low = 0\n",
    "    high = len(data) - 1\n",
    "    \n",
    "    while low <= high:\n",
    "        \n",
    "        middle = (low + high)//2\n",
    "        \n",
    "        if data[middle] == elem:\n",
    "            print(f\"The searching element {elem} present at index value {middle} in dataset\")\n",
    "            break\n",
    "            \n",
    "        elif data[middle] > elem:\n",
    "            high = middele - 1\n",
    "            \n",
    "        else :\n",
    "            low = middle + 1\n",
    "    if data[middle] != elem:\n",
    "        print(f\"The searching element {elem} is not present in dataset\")\n",
    "        return -1"
   ]
  },
  {
   "cell_type": "code",
   "execution_count": 7,
   "id": "a18f0d18",
   "metadata": {},
   "outputs": [
    {
     "name": "stdout",
     "output_type": "stream",
     "text": [
      "The searching element 30 present at index value 19 in dataset\n"
     ]
    }
   ],
   "source": [
    "binary_search (data, elem)"
   ]
  },
  {
   "cell_type": "code",
   "execution_count": null,
   "id": "e745e464",
   "metadata": {},
   "outputs": [],
   "source": []
  }
 ],
 "metadata": {
  "kernelspec": {
   "display_name": "Python 3 (ipykernel)",
   "language": "python",
   "name": "python3"
  },
  "language_info": {
   "codemirror_mode": {
    "name": "ipython",
    "version": 3
   },
   "file_extension": ".py",
   "mimetype": "text/x-python",
   "name": "python",
   "nbconvert_exporter": "python",
   "pygments_lexer": "ipython3",
   "version": "3.9.13"
  }
 },
 "nbformat": 4,
 "nbformat_minor": 5
}
