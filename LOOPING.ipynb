{
 "cells": [
  {
   "cell_type": "markdown",
   "id": "ed168365",
   "metadata": {},
   "source": [
    "# LOOPS"
   ]
  },
  {
   "cell_type": "markdown",
   "id": "ebceede2",
   "metadata": {},
   "source": [
    "# List"
   ]
  },
  {
   "cell_type": "code",
   "execution_count": 7,
   "id": "0ec2a4c7",
   "metadata": {},
   "outputs": [],
   "source": [
    "fcb = (\"MATS\",\"PEDRI\",\"GAVI\",\"LEWA\",\"LEO\",10)"
   ]
  },
  {
   "cell_type": "markdown",
   "id": "18dbe541",
   "metadata": {},
   "source": [
    "# Printing the list"
   ]
  },
  {
   "cell_type": "code",
   "execution_count": 8,
   "id": "db5df084",
   "metadata": {},
   "outputs": [
    {
     "name": "stdout",
     "output_type": "stream",
     "text": [
      "MATS\n",
      "PEDRI\n",
      "GAVI\n",
      "LEWA\n",
      "LEO\n",
      "10\n"
     ]
    }
   ],
   "source": [
    "for x in fcb:\n",
    "    print(x)"
   ]
  },
  {
   "cell_type": "markdown",
   "id": "926c5215",
   "metadata": {},
   "source": [
    "# Print Even & ODD Number"
   ]
  },
  {
   "cell_type": "code",
   "execution_count": 22,
   "id": "57b0bb39",
   "metadata": {},
   "outputs": [],
   "source": [
    "leo=[20,333,243,224,765,234,88,12.45,10.31]"
   ]
  },
  {
   "cell_type": "code",
   "execution_count": 27,
   "id": "ef0f591f",
   "metadata": {
    "scrolled": true
   },
   "outputs": [
    {
     "name": "stdout",
     "output_type": "stream",
     "text": [
      "20 is even\n",
      "333 is odd\n",
      "243 is odd\n",
      "224 is even\n",
      "765 is odd\n",
      "234 is even\n",
      "88 is even\n",
      "12.45 is odd\n",
      "10.31 is odd\n"
     ]
    }
   ],
   "source": [
    "for num in leo:\n",
    "    if num%2==0:\n",
    "        print(f\"{num} is even\")\n",
    "    else:\n",
    "        print(f\"{num} is odd\")"
   ]
  },
  {
   "cell_type": "code",
   "execution_count": 35,
   "id": "91e9f351",
   "metadata": {},
   "outputs": [
    {
     "name": "stdout",
     "output_type": "stream",
     "text": [
      "FCBARCELONA!S!!P!!A!!I!!N!!\n",
      "FCBARCELONA!S!!P!!A!!I!!N!!\n",
      "FCBARCELONA!S!!P!!A!!I!!N!!\n",
      "FCBARCELONA!S!!P!!A!!I!!N!!\n",
      "FCBARCELONA!S!!P!!A!!I!!N!!\n",
      "FCBARCELONA!S!!P!!A!!I!!N!!\n",
      "FCBARCELONA!S!!P!!A!!I!!N!!\n",
      "FCBARCELONA!S!!P!!A!!I!!N!!\n",
      "FCBARCELONA!S!!P!!A!!I!!N!!\n",
      "FCBARCELONA!S!!P!!A!!I!!N!!\n",
      "FCBARCELONA!S!!P!!A!!I!!N!!\n",
      "FCBARCELONA!S!!P!!A!!I!!N!!\n"
     ]
    }
   ],
   "source": [
    "for _ in'   Python   ':\n",
    "    print(\"FCBARCELONA!S!!P!!A!!I!!N!!\")"
   ]
  },
  {
   "cell_type": "markdown",
   "id": "1273a43a",
   "metadata": {},
   "source": [
    "# List of Tuples"
   ]
  },
  {
   "cell_type": "code",
   "execution_count": 37,
   "id": "f9c28047",
   "metadata": {},
   "outputs": [],
   "source": [
    "francis=[(10,20),(24.2,11),(12,65),(188,34),(864,33),(9999.4,22222)]"
   ]
  },
  {
   "cell_type": "markdown",
   "id": "171bd838",
   "metadata": {},
   "source": [
    "# Creating for LOOP"
   ]
  },
  {
   "cell_type": "code",
   "execution_count": 38,
   "id": "8cdc3d1c",
   "metadata": {
    "scrolled": true
   },
   "outputs": [
    {
     "name": "stdout",
     "output_type": "stream",
     "text": [
      "(10, 20)\n",
      "(24.2, 11)\n",
      "(12, 65)\n",
      "(188, 34)\n",
      "(864, 33)\n",
      "(9999.4, 22222)\n"
     ]
    }
   ],
   "source": [
    "for item in francis:\n",
    "    print(item)"
   ]
  },
  {
   "cell_type": "markdown",
   "id": "ce062d0c",
   "metadata": {},
   "source": [
    "# Creating Loop - Correcting the Error"
   ]
  },
  {
   "cell_type": "code",
   "execution_count": 40,
   "id": "9972a08f",
   "metadata": {},
   "outputs": [
    {
     "name": "stdout",
     "output_type": "stream",
     "text": [
      "10\n",
      "20\n",
      "24.2\n",
      "11\n",
      "12\n",
      "65\n",
      "188\n",
      "34\n",
      "864\n",
      "33\n",
      "9999.4\n",
      "22222\n"
     ]
    }
   ],
   "source": [
    "for leo,messi in francis:\n",
    "    print(leo)\n",
    "    print(messi)"
   ]
  },
  {
   "cell_type": "markdown",
   "id": "50ab931a",
   "metadata": {},
   "source": [
    "# Creating a dictonary"
   ]
  },
  {
   "cell_type": "code",
   "execution_count": 41,
   "id": "0bac8693",
   "metadata": {},
   "outputs": [],
   "source": [
    "leo={1:'LIVERPOOL',2:'SALAH',3:'LOOPS'}"
   ]
  },
  {
   "cell_type": "code",
   "execution_count": 44,
   "id": "435a2500",
   "metadata": {},
   "outputs": [
    {
     "name": "stdout",
     "output_type": "stream",
     "text": [
      "1\n",
      "2\n",
      "3\n"
     ]
    }
   ],
   "source": [
    "for item in leo:\n",
    "    print(item)"
   ]
  },
  {
   "cell_type": "markdown",
   "id": "9a13976b",
   "metadata": {},
   "source": [
    "# Printing iterms of dictonary"
   ]
  },
  {
   "cell_type": "code",
   "execution_count": 47,
   "id": "52bf161e",
   "metadata": {},
   "outputs": [
    {
     "name": "stdout",
     "output_type": "stream",
     "text": [
      "(1, 'LIVERPOOL')\n",
      "(2, 'SALAH')\n",
      "(3, 'LOOPS')\n"
     ]
    }
   ],
   "source": [
    "for item in leo.items():\n",
    "    print(item)"
   ]
  },
  {
   "cell_type": "markdown",
   "id": "21455779",
   "metadata": {},
   "source": [
    "\n",
    "# Printing the value in Dictionary"
   ]
  },
  {
   "cell_type": "code",
   "execution_count": null,
   "id": "46503f47",
   "metadata": {},
   "outputs": [],
   "source": []
  },
  {
   "cell_type": "code",
   "execution_count": null,
   "id": "fa205142",
   "metadata": {},
   "outputs": [],
   "source": []
  },
  {
   "cell_type": "markdown",
   "id": "9018a5db",
   "metadata": {},
   "source": [
    "# Whlile LOOP"
   ]
  },
  {
   "cell_type": "code",
   "execution_count": 4,
   "id": "a063f7d5",
   "metadata": {},
   "outputs": [
    {
     "name": "stdout",
     "output_type": "stream",
     "text": [
      "Enter the number: 10000000\n",
      "The sum is 50000005000000\n"
     ]
    }
   ],
   "source": [
    "leo=input(\"Enter the number: \")\n",
    "val = 0\n",
    "i = 0\n",
    "\n",
    "while i <= int(leo):\n",
    "    val += i\n",
    "    i += 1\n",
    "     \n",
    "print(f\"The sum is {val}\")"
   ]
  },
  {
   "cell_type": "markdown",
   "id": "51f3507b",
   "metadata": {},
   "source": [
    "# While Loop with list"
   ]
  },
  {
   "cell_type": "code",
   "execution_count": 1,
   "id": "4a53738c",
   "metadata": {},
   "outputs": [
    {
     "name": "stdout",
     "output_type": "stream",
     "text": [
      "HOLA loop\n",
      "HOLA loop\n",
      "HOLA loop\n",
      "HOLA loop\n",
      "HOLA loop\n",
      "VILLARREAL else\n"
     ]
    }
   ],
   "source": [
    "counter =2\n",
    "\n",
    "while counter < 7:\n",
    "    print(\"HOLA loop\")\n",
    "    counter = counter + 1\n",
    "else:\n",
    "    print(\"VILLARREAL else\")"
   ]
  },
  {
   "cell_type": "code",
   "execution_count": 2,
   "id": "52fab00b",
   "metadata": {},
   "outputs": [
    {
     "name": "stdout",
     "output_type": "stream",
     "text": [
      "0\n",
      "1\n",
      "2\n",
      "3\n",
      "4\n",
      "5\n",
      "no item left\n"
     ]
    }
   ],
   "source": [
    "digits = [0,1,2,3,4,5]\n",
    "for i in digits:\n",
    "    print(i)\n",
    "else:\n",
    "    print(\"no item left\")"
   ]
  },
  {
   "cell_type": "code",
   "execution_count": 5,
   "id": "5fa9e9d5",
   "metadata": {},
   "outputs": [
    {
     "ename": "SyntaxError",
     "evalue": "invalid syntax (2767542557.py, line 5)",
     "output_type": "error",
     "traceback": [
      "\u001b[1;36m  File \u001b[1;32m\"C:\\Users\\aedpu\\AppData\\Local\\Temp\\ipykernel_7768\\2767542557.py\"\u001b[1;36m, line \u001b[1;32m5\u001b[0m\n\u001b[1;33m    if count > = 5\u001b[0m\n\u001b[1;37m               ^\u001b[0m\n\u001b[1;31mSyntaxError\u001b[0m\u001b[1;31m:\u001b[0m invalid syntax\n"
     ]
    }
   ],
   "source": [
    "count = 0\n",
    "while True:\n",
    "    print(count)\n",
    "    count += \n",
    "    if count > = 5\n",
    "        break"
   ]
  },
  {
   "cell_type": "code",
   "execution_count": null,
   "id": "33614b4d",
   "metadata": {},
   "outputs": [],
   "source": []
  }
 ],
 "metadata": {
  "kernelspec": {
   "display_name": "Python 3 (ipykernel)",
   "language": "python",
   "name": "python3"
  },
  "language_info": {
   "codemirror_mode": {
    "name": "ipython",
    "version": 3
   },
   "file_extension": ".py",
   "mimetype": "text/x-python",
   "name": "python",
   "nbconvert_exporter": "python",
   "pygments_lexer": "ipython3",
   "version": "3.9.15"
  }
 },
 "nbformat": 4,
 "nbformat_minor": 5
}
