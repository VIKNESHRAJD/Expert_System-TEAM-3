{
 "cells": [
  {
   "cell_type": "markdown",
   "id": "10f35c2e",
   "metadata": {},
   "source": [
    "# EXPERT SYSTEM"
   ]
  },
  {
   "cell_type": "code",
   "execution_count": null,
   "id": "e63c6a8e",
   "metadata": {},
   "outputs": [],
   "source": [
    "from platform import python_version"
   ]
  },
  {
   "cell_type": "code",
   "execution_count": null,
   "id": "3dc7b576",
   "metadata": {},
   "outputs": [],
   "source": [
    "python_version()"
   ]
  },
  {
   "cell_type": "code",
   "execution_count": null,
   "id": "75894825",
   "metadata": {},
   "outputs": [],
   "source": [
    "pip install experta"
   ]
  },
  {
   "cell_type": "code",
   "execution_count": null,
   "id": "77fe7286",
   "metadata": {},
   "outputs": [],
   "source": [
    "from experta import *\n",
    "\n",
    "class Greetings(KnowledgeEngine):\n",
    "    @DefFacts()\n",
    "    def _initial_action(self):\n",
    "        yield Fact(action=\"greet\")\n",
    "        \n",
    "    @Rule(Fact(action='greet'),\n",
    "          NOT(Fact(name=W())))\n",
    "    def ask_name(self):\n",
    "        self.declare(Fact(name=input(\"What's your name?\")))\n",
    "        \n",
    "    @Rule(Fact(action='greet'),\n",
    "          NOT(Fact(location=W())))\n",
    "    def ask_location(self):\n",
    "        self.declare(Fact(location=input(\"Where are you?\")))\n",
    "        \n",
    "    @Rule(Fact(action='greet'),\n",
    "          Fact(name=MATCH.name),\n",
    "          Fact(location=MATCH.location))\n",
    "    def greet(self, name, location):\n",
    "        print(\"Hi %s! How is the weather in %s?\" % (name, location))"
   ]
  },
  {
   "cell_type": "code",
   "execution_count": null,
   "id": "dbefc04d",
   "metadata": {},
   "outputs": [],
   "source": [
    "engine = Greetings()\n",
    "engine.reset()\n",
    "engine.run()"
   ]
  },
  {
   "cell_type": "code",
   "execution_count": 6,
   "id": "1986d5ef",
   "metadata": {},
   "outputs": [],
   "source": [
    "from experta import *"
   ]
  },
  {
   "cell_type": "code",
   "execution_count": 1,
   "id": "1c8c357b",
   "metadata": {},
   "outputs": [
    {
     "ename": "SyntaxError",
     "evalue": "invalid syntax (2514543661.py, line 22)",
     "output_type": "error",
     "traceback": [
      "\u001b[1;36m  File \u001b[1;32m\"C:\\Users\\aedpu\\AppData\\Local\\Temp\\ipykernel_9960\\2514543661.py\"\u001b[1;36m, line \u001b[1;32m22\u001b[0m\n\u001b[1;33m    def cough_check(self):\u001b[0m\n\u001b[1;37m    ^\u001b[0m\n\u001b[1;31mSyntaxError\u001b[0m\u001b[1;31m:\u001b[0m invalid syntax\n"
     ]
    }
   ],
   "source": [
    "class meds(KnowledgeEngine):\n",
    "    @DefFacts()\n",
    "    def _initial_action(self):\n",
    "        yield Fact(action ='load')\n",
    "    \n",
    "    \n",
    "    @Rule(Fact(action ='load'), NOT(Fact(fulltime = W())))\n",
    "    def start_quest(self):\n",
    "        print(\"Welcome to the Medical Expert system.\")\n",
    "        self.declare(Fact(intro = input(\"please enter your name: \")))\n",
    "        self.declare(Fact(fulltime= input(\"Do you want to enter the Medical expert system? \")))\n",
    "        \n",
    "    @Rule(Fact(action='load'),(Fact(fulltime = 'no')))\n",
    "    def exiting(self):\n",
    "        print(\"Thank you!\")\n",
    "        \n",
    "    @Rule(Fact(action = 'load'),(Fact(fulltime = 'yes')))\n",
    "    def fever_check(self):\n",
    "        Self.declare(Fact(Fever = input(\"Do you have fever for the last  few days?\")))\n",
    "\n",
    "    @Rule (Fact(action = 'load'),AND(Fact(fulltime = 'yes'),NOT(Fact(Fever = 'not sure')))\n",
    "    def cough_check(self):\n",
    "        self.declare(Fact(cough = input(\"Do you have dry cough for the last few days?\")))\n",
    "        \n",
    "    @Rule(Fact(action='load'),AND(Fact(fulltime = 'yes'),NOT(Fact(Fever = 'not sure')),NOT(Fact(cough = 'not sure'))))\n",
    "    def tired_check(self):\n",
    "        self.declare(Fact(Tired = input(\"Have you been feeling tired\")))\n",
    "        \n",
    "    @Rule(Fact(action = 'load'),AND(Fact(fullltime='yes'),AND(Fact(Fever = 'yes'),Fact(cough = 'no'),Fact(Tired = 'no'))))\n",
    "    def accept_1(self):\n",
    "        print(\"You have fever,please take rest and have paracetanol\")\n",
    "        \n",
    "    @Rule(Fact(action = 'load'),AND(Fact(fulltime='yes'),AND(Fact(Fever = 'no'),Fact(cough = 'yes'), Fact(Tired = 'n0'))))\n",
    "    def accept_2(self):\n",
    "        print(\"you just have dry cough . please gargle, steae and have lots of hot water.\")\n",
    "        \n",
    "    @Rule(Fact(action = 'load'),AND(Fact(fulltime='yes'), Fact(Fever = 'yes'), Fact(cough = 'yes'),Fact(Tired = 'yes')))\n",
    "    def accept_3(self):\n",
    "        print(\" you are showing symptoms of COVID-19.Please get yourself tested and stay quarentined.\")\n",
    "        \n",
    "    @Rule(Fact(action = 'load'),AND(Fact(fulltime='yes'), Fact(Fever = 'no'), Fact(cough = 'yes'),Fact(Tired = 'yes')))\n",
    "    def accept_4(self):\n",
    "        print(\" Please visit the doctor as you may  have a throat infection.\")\n",
    "        \n",
    "    @Rule(Fact(action = 'load'),AND(Fact(fulltime='yes'), Fact(Fever = 'yes'), Fact(cough = 'no'),Fact(Tired = 'yes')))\n",
    "    def accept_5(self):\n",
    "        print(\"You may ba having a viral infection. Take ample rest.If it presists please visit a doctor.\")\n",
    "        \n",
    "    @Rule(Fact(action = 'load'),AND(Fact(fulltime = 'yes'), OR(Fact(Fever = 'yes'),Fact(Fever = 'no')),\n",
    "                                    OR(Fact(cough = 'yes'),Fact(cough = 'no')),\n",
    "                                    OR(Fact(Tired = 'yes'),Fact(Tired = 'no'))))\n",
    "    def adv_expt(self):\n",
    "        print(\"You have completed the simple medical expert system.\")\n",
    "        self.declare(Fact(dep_dive = input(\"Do you want to dive deeper into the expert system?\")))\n",
    "        \n",
    "    @Rule(Fact(action = 'load'),AND(Fact(fulltime = 'yes'),Fact(dep_dive = 'no')))\n",
    "    def div_reject(self):\n",
    "        print(\"Thank you for using our expert system.\")\n",
    "        \n",
    "    @Rule(Fact(action = 'load'),AND(Fact(fulltime = 'yes'),Fact(dep_dive ='yes')))\n",
    "    def breath(self):\n",
    "        self.declare(Fact(breathing = input(\"Have you been experiencing shortness of breath?\")))\n",
    "        \n",
    "    @Rule(Fact(action = 'load'),AND(Fact(fulltime = 'yes'),Fact(dep_dive = 'yes'),\n",
    "                                    OR(Fact(breathing ='yes'),Fact(brearthing = 'no'))))\n",
    "    def chest_pain(self):\n",
    "        self.declare(Fact(chest = input(\"Have you been experiencing acute chest pain or pressure?\")))\n",
    "        \n",
    "    @Rule(Fact(action = 'load'),AND(Fact(fulltime = 'yes'),Fact(dep_dive = 'yes'),\n",
    "                                    OR(Fact(breathing = 'yes'),Fact(breathing='no'), OR(Fact(chest = 'yes'),Fact(chest = 'no')))))\n",
    "          \n",
    "    def speech_loss(self):\n",
    "        self.declare(Fact(loss = input(\"Have you been experiencing any loss of speech or movement?\")))\n",
    "          \n",
    "    @Rule(Fact(action = 'load'),AND(Fact(fulltime = 'yes'), Fact(dep_dive = 'yes'),Fact(breathing = 'yes'),Fact(loss ='no'),Fact(chest = 'no')))\n",
    "    \n",
    "    def accept_6(self):\n",
    "        print(\"You seem to be having shortness of breath. Even if you  are not COVID positive, this is serious.\")\n",
    "        print(\"Go to the doctor imediately.\")\n",
    "        \n",
    "    @Rule(Fact(action = 'load'),AND(Fact(fulltime = 'yes'),Fact(dep_dive = 'yes'),Fact(breathing = 'no'),Fact(loss = 'no'),Fact(chest='no')))\n",
    "     \n",
    "    def accept_7(self):\n",
    "        print(\"You seem to be having either loss of speech or movement. Even if you  are not COVID positive, this is serious.\")\n",
    "        print(\"Go to the doctor imediately.\")\n",
    "        \n",
    "    @Rule(Fact(action = 'load'),AND(Fact(fulltime = 'yes'),Fact(dep_dive = 'yes'),Fact(breathing = 'no'),Fact(loss = 'no'),Fact(chest='yes')))\n",
    "     \n",
    "    def accept_8(self):\n",
    "        print(\"You seem to be having  chest pain. Even if you  are not COVID positive, this is serious.\")\n",
    "        print(\"Go to the doctor imediately.\")\n",
    "        \n",
    "    @Rule(Fact(action = 'load'),AND(Fact(fulltime = 'yes'),Fact(dep_dive = 'yes'),Fact(breathing = 'yes'),Fact(loss = 'no'),Fact(chest='yes')))\n",
    "     \n",
    "    def accept_9(self):\n",
    "        print(\"You seem to be having  chest pain and shortness of breath. Even if you  are not COVID positive, this is serious.\")\n",
    "        print(\"Go to the doctor imediately.\")\n",
    "        \n",
    "        \n",
    "    @Rule(Fact(action = 'load'),AND(Fact(fulltime = 'yes'),Fact(dep_dive = 'yes'),Fact(breathing = 'no'),Fact(loss = 'yes'),Fact(chest='yes')))\n",
    "     \n",
    "    def accept_10(self):\n",
    "        print(\"You seem to be having  chest pain and loss of speech or motion. Even if you  are not COVID positive, this is serious.\")\n",
    "        print(\"Go to the doctor imediately.\")\n",
    "        \n",
    "        \n",
    "    @Rule(Fact(action = 'load'),AND(Fact(fulltime = 'yes'),Fact(dep_dive = 'yes'),Fact(breathing = 'yes'),Fact(loss = 'yes'),Fact(chest='no')))\n",
    "     \n",
    "    def accept_11(self):\n",
    "        print(\"You seem to be having shortness of breath and loss of speech or movement. Even if you  are not COVID positive, this is serious.\")\n",
    "        print(\"Go to the doctor imediately.\")\n",
    "            \n",
    "    @Rule(Fact(action = 'load'),AND(Fact(fulltime = 'yes'),Fact(dep_dive = 'yes'),Fact(breathing = 'yes'),Fact(loss = 'yes'),Fact(chest='yes')))\n",
    "     \n",
    "    def accept_12(self):\n",
    "        print(\"You seem to be having  chest pain and shortness of breath and loss of speech or movement. Even if you  are not COVID positive, this is serious.\")\n",
    "        print(\"Go to the doctor imediately.\")"
   ]
  },
  {
   "cell_type": "code",
   "execution_count": null,
   "id": "1e0fd5f7",
   "metadata": {},
   "outputs": [],
   "source": [
    "engine = meds()\n",
    "engine.reset()\n",
    "engine.run()"
   ]
  },
  {
   "cell_type": "code",
   "execution_count": null,
   "id": "6beb90cc",
   "metadata": {},
   "outputs": [],
   "source": []
  },
  {
   "cell_type": "code",
   "execution_count": null,
   "id": "8b06fcb5",
   "metadata": {},
   "outputs": [],
   "source": []
  },
  {
   "cell_type": "code",
   "execution_count": null,
   "id": "7e627be1",
   "metadata": {},
   "outputs": [],
   "source": []
  },
  {
   "cell_type": "code",
   "execution_count": null,
   "id": "caddfba2",
   "metadata": {},
   "outputs": [],
   "source": []
  }
 ],
 "metadata": {
  "kernelspec": {
   "display_name": "Python 3 (ipykernel)",
   "language": "python",
   "name": "python3"
  },
  "language_info": {
   "codemirror_mode": {
    "name": "ipython",
    "version": 3
   },
   "file_extension": ".py",
   "mimetype": "text/x-python",
   "name": "python",
   "nbconvert_exporter": "python",
   "pygments_lexer": "ipython3",
   "version": "3.9.13"
  }
 },
 "nbformat": 4,
 "nbformat_minor": 5
}
