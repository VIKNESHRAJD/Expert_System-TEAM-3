{
 "cells": [
  {
   "cell_type": "code",
   "execution_count": 1,
   "id": "60d4910e",
   "metadata": {},
   "outputs": [],
   "source": [
    "import json"
   ]
  },
  {
   "cell_type": "markdown",
   "id": "1ad4a6d4",
   "metadata": {},
   "source": [
    "# Data Creation"
   ]
  },
  {
   "cell_type": "code",
   "execution_count": 2,
   "id": "731224aa",
   "metadata": {},
   "outputs": [],
   "source": [
    "dictionary ={\n",
    "    \"name\":\"LEOMESSI\",\n",
    "    \"rollno\" : 56 ,\n",
    "    \"cgpa\": 9.9,\n",
    "    \"phonenumber\": \"6000777567\"\n",
    "}"
   ]
  },
  {
   "cell_type": "markdown",
   "id": "7cf40ae3",
   "metadata": {},
   "source": [
    "# JSON FILE"
   ]
  },
  {
   "cell_type": "code",
   "execution_count": 3,
   "id": "c264186b",
   "metadata": {},
   "outputs": [],
   "source": [
    "with open (\"sample.json\",\"w\") as outfile:\n",
    "    json.dump(dictionary,outfile)"
   ]
  },
  {
   "cell_type": "markdown",
   "id": "3c1fa4f1",
   "metadata": {},
   "source": [
    "# Open a JSON file"
   ]
  },
  {
   "cell_type": "code",
   "execution_count": 9,
   "id": "3606deef",
   "metadata": {},
   "outputs": [],
   "source": [
    "f=open('sample.json')"
   ]
  },
  {
   "cell_type": "markdown",
   "id": "b2f5da3e",
   "metadata": {},
   "source": [
    "# Returning JSON Object "
   ]
  },
  {
   "cell_type": "code",
   "execution_count": 10,
   "id": "4d845620",
   "metadata": {},
   "outputs": [
    {
     "name": "stdout",
     "output_type": "stream",
     "text": [
      "{'name': 'LEOMESSI', 'rollno': 56, 'cgpa': 9.9, 'phonenumber': '6000777567'}\n"
     ]
    }
   ],
   "source": [
    "data = json.load(f)\n",
    "print(data)"
   ]
  },
  {
   "cell_type": "code",
   "execution_count": 11,
   "id": "af18b881",
   "metadata": {},
   "outputs": [],
   "source": [
    "f.close()"
   ]
  }
 ],
 "metadata": {
  "kernelspec": {
   "display_name": "Python 3 (ipykernel)",
   "language": "python",
   "name": "python3"
  },
  "language_info": {
   "codemirror_mode": {
    "name": "ipython",
    "version": 3
   },
   "file_extension": ".py",
   "mimetype": "text/x-python",
   "name": "python",
   "nbconvert_exporter": "python",
   "pygments_lexer": "ipython3",
   "version": "3.9.13"
  }
 },
 "nbformat": 4,
 "nbformat_minor": 5
}
