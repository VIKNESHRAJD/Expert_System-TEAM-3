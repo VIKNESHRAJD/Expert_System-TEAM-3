{
 "cells": [
  {
   "cell_type": "code",
   "execution_count": 5,
   "id": "9f781973",
   "metadata": {},
   "outputs": [
    {
     "name": "stdout",
     "output_type": "stream",
     "text": [
      "apple\n",
      "apple\n",
      "apple\n",
      "apple\n",
      "apple\n",
      "nandhini\n"
     ]
    }
   ],
   "source": [
    "counter =2\n",
    "\n",
    "while counter < 7:\n",
    "    print(\"apple\")\n",
    "    counter = counter + 1\n",
    "else:\n",
    "    print(\"nandhini\")"
   ]
  },
  {
   "cell_type": "code",
   "execution_count": 6,
   "id": "e99e223a",
   "metadata": {},
   "outputs": [
    {
     "name": "stdout",
     "output_type": "stream",
     "text": [
      "0\n",
      "1\n",
      "2\n",
      "3\n",
      "4\n",
      "5\n",
      "no item left\n"
     ]
    }
   ],
   "source": [
    "digits = [0,1,2,3,4,5]\n",
    "for i in digits:\n",
    "    print(i)\n",
    "else:\n",
    "    print(\"no item left\")"
   ]
  },
  {
   "cell_type": "code",
   "execution_count": null,
   "id": "cb8ca9d5",
   "metadata": {},
   "outputs": [],
   "source": []
  }
 ],
 "metadata": {
  "kernelspec": {
   "display_name": "Python 3 (ipykernel)",
   "language": "python",
   "name": "python3"
  },
  "language_info": {
   "codemirror_mode": {
    "name": "ipython",
    "version": 3
   },
   "file_extension": ".py",
   "mimetype": "text/x-python",
   "name": "python",
   "nbconvert_exporter": "python",
   "pygments_lexer": "ipython3",
   "version": "3.9.15"
  }
 },
 "nbformat": 4,
 "nbformat_minor": 5
}
