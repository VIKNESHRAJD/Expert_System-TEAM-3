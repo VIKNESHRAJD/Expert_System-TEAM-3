{
 "cells": [
  {
   "cell_type": "markdown",
   "id": "e54b9ea3",
   "metadata": {},
   "source": [
    "# ARRAY OPERATIONS\n",
    "\n"
   ]
  },
  {
   "cell_type": "code",
   "execution_count": 2,
   "id": "6f13bc08",
   "metadata": {},
   "outputs": [],
   "source": [
    "import array as ar"
   ]
  },
  {
   "cell_type": "code",
   "execution_count": 27,
   "id": "c502fee2",
   "metadata": {},
   "outputs": [],
   "source": [
    "a=ar.array('i',[20,30,45,67,886,674,57758,72377,8947,7875,46,44])"
   ]
  },
  {
   "cell_type": "code",
   "execution_count": 28,
   "id": "deac9786",
   "metadata": {
    "scrolled": true
   },
   "outputs": [
    {
     "data": {
      "text/plain": [
       "array('i', [20, 30, 45, 67, 886, 674, 57758, 72377, 8947, 7875, 46, 44])"
      ]
     },
     "execution_count": 28,
     "metadata": {},
     "output_type": "execute_result"
    }
   ],
   "source": [
    "a"
   ]
  },
  {
   "cell_type": "code",
   "execution_count": 30,
   "id": "a5eb0824",
   "metadata": {},
   "outputs": [
    {
     "data": {
      "text/plain": [
       "12"
      ]
     },
     "execution_count": 30,
     "metadata": {},
     "output_type": "execute_result"
    }
   ],
   "source": [
    "len(a)"
   ]
  },
  {
   "cell_type": "code",
   "execution_count": 35,
   "id": "f92490af",
   "metadata": {},
   "outputs": [],
   "source": [
    "a.append(6)"
   ]
  },
  {
   "cell_type": "code",
   "execution_count": 36,
   "id": "086533bc",
   "metadata": {},
   "outputs": [
    {
     "data": {
      "text/plain": [
       "array('i', [20, 30, 45, 67, 886, 674, 57758, 72377, 8947, 7875, 46, 44, 6])"
      ]
     },
     "execution_count": 36,
     "metadata": {},
     "output_type": "execute_result"
    }
   ],
   "source": [
    "a"
   ]
  },
  {
   "cell_type": "code",
   "execution_count": 40,
   "id": "6f407ae9",
   "metadata": {},
   "outputs": [],
   "source": [
    "a.extend([100,854,534])"
   ]
  },
  {
   "cell_type": "code",
   "execution_count": 41,
   "id": "6ff0c325",
   "metadata": {},
   "outputs": [
    {
     "data": {
      "text/plain": [
       "array('i', [20, 30, 45, 67, 886, 674, 57758, 72377, 8947, 7875, 46, 44, 6, 7, 8, 9, 100, 854, 534, 100, 854, 534])"
      ]
     },
     "execution_count": 41,
     "metadata": {},
     "output_type": "execute_result"
    }
   ],
   "source": [
    "a"
   ]
  },
  {
   "cell_type": "code",
   "execution_count": 45,
   "id": "16860f42",
   "metadata": {},
   "outputs": [],
   "source": [
    "a.insert(0,7)"
   ]
  },
  {
   "cell_type": "code",
   "execution_count": 46,
   "id": "0bbd56d0",
   "metadata": {},
   "outputs": [
    {
     "data": {
      "text/plain": [
       "array('i', [7, 20, 30, 45, 67, 886, 674, 57758, 72377, 8947, 7875, 46, 44, 6, 7, 8, 9, 100, 854, 534, 100, 854, 534, 10])"
      ]
     },
     "execution_count": 46,
     "metadata": {},
     "output_type": "execute_result"
    }
   ],
   "source": [
    "a"
   ]
  },
  {
   "cell_type": "code",
   "execution_count": 49,
   "id": "0a968c1c",
   "metadata": {},
   "outputs": [],
   "source": [
    "a.remove(57758)"
   ]
  },
  {
   "cell_type": "code",
   "execution_count": 50,
   "id": "9f8ac971",
   "metadata": {},
   "outputs": [
    {
     "data": {
      "text/plain": [
       "array('i', [7, 20, 30, 45, 67, 886, 674, 72377, 8947, 7875, 46, 44, 6, 7, 8, 9, 100, 854, 534, 100, 854, 534, 10])"
      ]
     },
     "execution_count": 50,
     "metadata": {},
     "output_type": "execute_result"
    }
   ],
   "source": [
    "a"
   ]
  },
  {
   "cell_type": "code",
   "execution_count": 51,
   "id": "ae59059e",
   "metadata": {},
   "outputs": [
    {
     "data": {
      "text/plain": [
       "72377"
      ]
     },
     "execution_count": 51,
     "metadata": {},
     "output_type": "execute_result"
    }
   ],
   "source": [
    "a.pop(7)"
   ]
  },
  {
   "cell_type": "code",
   "execution_count": 52,
   "id": "a501e16b",
   "metadata": {
    "scrolled": true
   },
   "outputs": [
    {
     "data": {
      "text/plain": [
       "array('i', [7, 20, 30, 45, 67, 886, 674, 8947, 7875, 46, 44, 6, 7, 8, 9, 100, 854, 534, 100, 854, 534, 10])"
      ]
     },
     "execution_count": 52,
     "metadata": {},
     "output_type": "execute_result"
    }
   ],
   "source": [
    "a"
   ]
  },
  {
   "cell_type": "code",
   "execution_count": 58,
   "id": "7c0b5998",
   "metadata": {},
   "outputs": [
    {
     "data": {
      "text/plain": [
       "array('i', [20, 30, 45, 67, 886, 674, 8947, 7875, 46])"
      ]
     },
     "execution_count": 58,
     "metadata": {},
     "output_type": "execute_result"
    }
   ],
   "source": [
    "a[1:10]"
   ]
  },
  {
   "cell_type": "markdown",
   "id": "3c2f240a",
   "metadata": {},
   "source": [
    "# ARRAY REVERSE"
   ]
  },
  {
   "cell_type": "code",
   "execution_count": 59,
   "id": "a32c4619",
   "metadata": {},
   "outputs": [],
   "source": [
    "a=ar.array('i',[2,4,6,8,10,12,14,16,18,20,22,24])\n"
   ]
  },
  {
   "cell_type": "code",
   "execution_count": 60,
   "id": "83a23430",
   "metadata": {},
   "outputs": [],
   "source": [
    "a.reverse()"
   ]
  },
  {
   "cell_type": "code",
   "execution_count": 61,
   "id": "62a9e69c",
   "metadata": {},
   "outputs": [
    {
     "data": {
      "text/plain": [
       "array('i', [24, 22, 20, 18, 16, 14, 12, 10, 8, 6, 4, 2])"
      ]
     },
     "execution_count": 61,
     "metadata": {},
     "output_type": "execute_result"
    }
   ],
   "source": [
    "a"
   ]
  },
  {
   "cell_type": "markdown",
   "id": "9d6f658d",
   "metadata": {},
   "source": [
    "# TASK"
   ]
  },
  {
   "cell_type": "code",
   "execution_count": 69,
   "id": "b40b1978",
   "metadata": {},
   "outputs": [],
   "source": [
    "a=ar.array('i',[1,2,3,4,5,6,])\n"
   ]
  },
  {
   "cell_type": "code",
   "execution_count": 70,
   "id": "25c98e13",
   "metadata": {},
   "outputs": [
    {
     "data": {
      "text/plain": [
       "array('i', [1, 2, 3, 4, 5, 6])"
      ]
     },
     "execution_count": 70,
     "metadata": {},
     "output_type": "execute_result"
    }
   ],
   "source": [
    "a"
   ]
  },
  {
   "cell_type": "code",
   "execution_count": 72,
   "id": "88291131",
   "metadata": {},
   "outputs": [
    {
     "data": {
      "text/plain": [
       "array('i', [1, 2, 3, 4, 5, 6, 7, 8, 9, 10])"
      ]
     },
     "execution_count": 72,
     "metadata": {},
     "output_type": "execute_result"
    }
   ],
   "source": [
    "a.extend([7,8,9,10])\n",
    "a"
   ]
  },
  {
   "cell_type": "code",
   "execution_count": 87,
   "id": "1af839fe",
   "metadata": {},
   "outputs": [
    {
     "data": {
      "text/plain": [
       "array('i', [5, 6, 7, 8, 9])"
      ]
     },
     "execution_count": 87,
     "metadata": {},
     "output_type": "execute_result"
    }
   ],
   "source": [
    "a[4:9]\n"
   ]
  },
  {
   "cell_type": "code",
   "execution_count": 91,
   "id": "09481285",
   "metadata": {},
   "outputs": [],
   "source": [
    "a=ar.array('i',[5, 6, 7, 8, 9])"
   ]
  },
  {
   "cell_type": "code",
   "execution_count": 106,
   "id": "79b40458",
   "metadata": {},
   "outputs": [],
   "source": [
    "b=a[4:0]\n",
    "b.reverse()"
   ]
  },
  {
   "cell_type": "code",
   "execution_count": 109,
   "id": "9b0fd6cb",
   "metadata": {},
   "outputs": [
    {
     "data": {
      "text/plain": [
       "array('i')"
      ]
     },
     "execution_count": 109,
     "metadata": {},
     "output_type": "execute_result"
    }
   ],
   "source": [
    "b"
   ]
  },
  {
   "cell_type": "code",
   "execution_count": null,
   "id": "297c4779",
   "metadata": {},
   "outputs": [],
   "source": [
    "class Automobile(Vehicle):\n",
    "    def __init__(self, name, max_speed, mileage, doors):\n",
    "        super().__init__(name, max_speed, mileage)\n",
    "        self.doors = doors\n",
    "        \n",
    "    def disp(self):\n",
    "        super().disp()\n",
    "        print(\"Doors:\", self.doors)\n",
    "\n",
    "ob = Automobile(\"Maserati\", 220, 7, 2)\n",
    "ob.disp()\n"
   ]
  }
 ],
 "metadata": {
  "kernelspec": {
   "display_name": "Python 3 (ipykernel)",
   "language": "python",
   "name": "python3"
  },
  "language_info": {
   "codemirror_mode": {
    "name": "ipython",
    "version": 3
   },
   "file_extension": ".py",
   "mimetype": "text/x-python",
   "name": "python",
   "nbconvert_exporter": "python",
   "pygments_lexer": "ipython3",
   "version": "3.10.9"
  }
 },
 "nbformat": 4,
 "nbformat_minor": 5
}
