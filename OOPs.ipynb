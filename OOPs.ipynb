{
 "cells": [
  {
   "cell_type": "code",
   "execution_count": 7,
   "id": "9bc05164",
   "metadata": {},
   "outputs": [
    {
     "name": "stdout",
     "output_type": "stream",
     "text": [
      "Maserati 220 7\n"
     ]
    }
   ],
   "source": [
    "class vehicle:\n",
    "    def __init__(self, name, max_speed, mileage):\n",
    "        self.name = name\n",
    "        self.max_speed = max_speed\n",
    "        self.mileage = mileage\n",
    "        \n",
    "    def disp(self):\n",
    "        print(ob.name, ob.max_speed, ob.mileage)\n",
    "        \n",
    "ob = vehicle(\"Maserati\", 220, 7)\n",
    "ob.disp()\n"
   ]
  },
  {
   "cell_type": "code",
   "execution_count": null,
   "id": "3d038db5",
   "metadata": {},
   "outputs": [],
   "source": []
  },
  {
   "cell_type": "code",
   "execution_count": 17,
   "id": "f4e7af2c",
   "metadata": {},
   "outputs": [
    {
     "name": "stdout",
     "output_type": "stream",
     "text": [
      "vehicle name: Maserati speed: 220 Mileage: 7 Pice: 40000000\n"
     ]
    }
   ],
   "source": [
    "class vehicle:\n",
    "    \n",
    "    def __init__(self, name, max_speed, mileage):\n",
    "        self.name = name\n",
    "        self.max_speed = max_speed\n",
    "        self.mileage = mileage\n",
    "        \n",
    "class Automobile(Vehicle):\n",
    "    def __init__(self,price):\n",
    "        self.price = price\n",
    "    def disp(self):\n",
    "        super().__init__(name, max_speed, mileage)\n",
    "        self.price = price\n",
    "\n",
    "ob1 = Vehicle(\"Maserati\", 220, 7)\n",
    "ob2 = Automobile(40000000)\n",
    "\n",
    "print(\"vehicle name:\", ob1.name,\"speed:\",ob1.max_speed, \"Mileage:\", ob1.mileage, \"Pice:\",ob2.price)"
   ]
  },
  {
   "cell_type": "code",
   "execution_count": null,
   "id": "c16cfb17",
   "metadata": {},
   "outputs": [],
   "source": []
  },
  {
   "cell_type": "code",
   "execution_count": null,
   "id": "21e64f1c",
   "metadata": {},
   "outputs": [],
   "source": []
  },
  {
   "cell_type": "code",
   "execution_count": null,
   "id": "dd714b4b",
   "metadata": {},
   "outputs": [],
   "source": []
  }
 ],
 "metadata": {
  "kernelspec": {
   "display_name": "Python 3 (ipykernel)",
   "language": "python",
   "name": "python3"
  },
  "language_info": {
   "codemirror_mode": {
    "name": "ipython",
    "version": 3
   },
   "file_extension": ".py",
   "mimetype": "text/x-python",
   "name": "python",
   "nbconvert_exporter": "python",
   "pygments_lexer": "ipython3",
   "version": "3.9.13"
  }
 },
 "nbformat": 4,
 "nbformat_minor": 5
}
