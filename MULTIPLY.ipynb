{
 "cells": [
  {
   "cell_type": "markdown",
   "id": "7de64fef",
   "metadata": {},
   "source": [
    "# MULTIPLE SEQUENCE"
   ]
  },
  {
   "cell_type": "code",
   "execution_count": 8,
   "id": "e9d7cf40",
   "metadata": {},
   "outputs": [
    {
     "name": "stdout",
     "output_type": "stream",
     "text": [
      "-12 8\n"
     ]
    }
   ],
   "source": [
    "x=20\n",
    "y=X+2\n",
    "y=2*y\n",
    "x=y-x\n",
    "print(x,y)"
   ]
  },
  {
   "cell_type": "code",
   "execution_count": 20,
   "id": "2d193c3c",
   "metadata": {},
   "outputs": [
    {
     "name": "stdout",
     "output_type": "stream",
     "text": [
      "14719.06 216650727.28359997\n"
     ]
    }
   ],
   "source": [
    "x=7359.53\n",
    "x=x*2\n",
    "y=x*x\n",
    "x=y/x\n",
    "print (x,y)"
   ]
  },
  {
   "cell_type": "code",
   "execution_count": 21,
   "id": "7e25b45e",
   "metadata": {},
   "outputs": [
    {
     "data": {
      "text/plain": [
       "14719.06"
      ]
     },
     "execution_count": 21,
     "metadata": {},
     "output_type": "execute_result"
    }
   ],
   "source": [
    "x"
   ]
  },
  {
   "cell_type": "code",
   "execution_count": 22,
   "id": "3f93b850",
   "metadata": {},
   "outputs": [
    {
     "data": {
      "text/plain": [
       "216650727.28359997"
      ]
     },
     "execution_count": 22,
     "metadata": {},
     "output_type": "execute_result"
    }
   ],
   "source": [
    "y"
   ]
  },
  {
   "cell_type": "code",
   "execution_count": 24,
   "id": "0e38740a",
   "metadata": {},
   "outputs": [
    {
     "data": {
      "text/plain": [
       "216665446.34359998"
      ]
     },
     "execution_count": 24,
     "metadata": {},
     "output_type": "execute_result"
    }
   ],
   "source": [
    "x+y"
   ]
  },
  {
   "cell_type": "code",
   "execution_count": 25,
   "id": "0409f760",
   "metadata": {},
   "outputs": [
    {
     "data": {
      "text/plain": [
       "216636008.22359997"
      ]
     },
     "execution_count": 25,
     "metadata": {},
     "output_type": "execute_result"
    }
   ],
   "source": [
    "y-x"
   ]
  },
  {
   "cell_type": "code",
   "execution_count": 26,
   "id": "07851036",
   "metadata": {},
   "outputs": [
    {
     "data": {
      "text/plain": [
       "14719.06"
      ]
     },
     "execution_count": 26,
     "metadata": {},
     "output_type": "execute_result"
    }
   ],
   "source": [
    "x%y"
   ]
  },
  {
   "cell_type": "code",
   "execution_count": 1,
   "id": "7cc8b446",
   "metadata": {},
   "outputs": [
    {
     "name": "stdout",
     "output_type": "stream",
     "text": [
      "the value of x is:111111\n",
      "222222.0 49382617284\n"
     ]
    }
   ],
   "source": [
    "x=input(\"the value of x is:\")\n",
    "x=int(x)\n",
    "x=x*2\n",
    "y=x*x\n",
    "x=y/x\n",
    "print (x,y)"
   ]
  },
  {
   "cell_type": "code",
   "execution_count": null,
   "id": "306ff5ac",
   "metadata": {},
   "outputs": [],
   "source": []
  }
 ],
 "metadata": {
  "kernelspec": {
   "display_name": "Python 3 (ipykernel)",
   "language": "python",
   "name": "python3"
  },
  "language_info": {
   "codemirror_mode": {
    "name": "ipython",
    "version": 3
   },
   "file_extension": ".py",
   "mimetype": "text/x-python",
   "name": "python",
   "nbconvert_exporter": "python",
   "pygments_lexer": "ipython3",
   "version": "3.9.13"
  }
 },
 "nbformat": 4,
 "nbformat_minor": 5
}
