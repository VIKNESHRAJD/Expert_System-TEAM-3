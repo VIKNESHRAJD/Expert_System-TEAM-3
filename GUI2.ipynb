{
 "cells": [
  {
   "cell_type": "code",
   "execution_count": 1,
   "id": "efcd68ff",
   "metadata": {},
   "outputs": [],
   "source": [
    "import tkinter as tk"
   ]
  },
  {
   "cell_type": "code",
   "execution_count": 2,
   "id": "a9663a97",
   "metadata": {},
   "outputs": [],
   "source": [
    "root = tk.Tk()"
   ]
  },
  {
   "cell_type": "code",
   "execution_count": 3,
   "id": "1eb0d0f3",
   "metadata": {},
   "outputs": [],
   "source": [
    "myButton1 = tk.Button(root, text=\"click OFF\")\n",
    "myButton2 = tk.Button(root, text=\"click RUN\")\n",
    "myButton3 = tk.Button(root, text=\"click ON\")"
   ]
  },
  {
   "cell_type": "code",
   "execution_count": 4,
   "id": "681a6859",
   "metadata": {},
   "outputs": [],
   "source": [
    "def myclick1():\n",
    "    mylabel = tk.Label(root, text=\"HOLA students\")\n",
    "    mylabel.pack()\n",
    "def myclick2():\n",
    "    mylabel = tk.Label(root, text=\"How are you?\")\n",
    "    mylabel.pack()    \n",
    "def myclick3():\n",
    "    mylabel = tk.Label(root, text=\"All buttons are pressed\")\n",
    "    mylabel.pack()        "
   ]
  },
  {
   "cell_type": "code",
   "execution_count": 5,
   "id": "73104347",
   "metadata": {},
   "outputs": [],
   "source": [
    "myButton1 = tk.Button(root, text=\"Click Me\", command = myclick1,fg='yellow',bg='green')"
   ]
  },
  {
   "cell_type": "code",
   "execution_count": 6,
   "id": "5a8cab68",
   "metadata": {},
   "outputs": [],
   "source": [
    "myButton2 = tk.Button(root, text=\"Click Me\", command = myclick2,fg='yellow',bg='green')"
   ]
  },
  {
   "cell_type": "code",
   "execution_count": 7,
   "id": "7e429bca",
   "metadata": {},
   "outputs": [],
   "source": [
    "myButton3 = tk.Button(root, text=\"Click Me\", command = myclick3,fg='yellow',bg='green')"
   ]
  },
  {
   "cell_type": "code",
   "execution_count": 8,
   "id": "e3ed0b54",
   "metadata": {},
   "outputs": [],
   "source": [
    "myButton1.pack()\n",
    "myButton2.pack()\n",
    "myButton3.pack()"
   ]
  },
  {
   "cell_type": "code",
   "execution_count": null,
   "id": "7304597b",
   "metadata": {},
   "outputs": [],
   "source": []
  },
  {
   "cell_type": "code",
   "execution_count": 9,
   "id": "9da19563",
   "metadata": {
    "scrolled": true
   },
   "outputs": [],
   "source": [
    "EntryWidget = tk.Entry(root)"
   ]
  },
  {
   "cell_type": "code",
   "execution_count": 10,
   "id": "9afe5b0d",
   "metadata": {},
   "outputs": [],
   "source": [
    "EntryWidget.insert(0, \"Type your text here\")"
   ]
  },
  {
   "cell_type": "code",
   "execution_count": 11,
   "id": "a3bb6278",
   "metadata": {},
   "outputs": [],
   "source": [
    "EntryWidget.pack()"
   ]
  },
  {
   "cell_type": "code",
   "execution_count": 12,
   "id": "f1440795",
   "metadata": {},
   "outputs": [],
   "source": [
    "root =tk.Tk()"
   ]
  },
  {
   "cell_type": "code",
   "execution_count": 13,
   "id": "3a165074",
   "metadata": {},
   "outputs": [],
   "source": [
    "v = tk.IntVar()\n",
    "v.set(1)"
   ]
  },
  {
   "cell_type": "code",
   "execution_count": 14,
   "id": "b44fb693",
   "metadata": {},
   "outputs": [],
   "source": [
    "radiobutton_widget1 = tk.Radiobutton(root,text = \"Radiobuton 1\",variable=v, value=1)\n",
    "radiobutton_widget2 = tk.Radiobutton(root,text = \"Radiobuton 2\",variable=v, value=2)"
   ]
  },
  {
   "cell_type": "code",
   "execution_count": 15,
   "id": "5d5a8da4",
   "metadata": {},
   "outputs": [],
   "source": [
    "radiobutton_widget1.pack()\n",
    "radiobutton_widget2.pack()"
   ]
  },
  {
   "cell_type": "code",
   "execution_count": 16,
   "id": "5b12009c",
   "metadata": {},
   "outputs": [],
   "source": [
    "root.mainloop()"
   ]
  },
  {
   "cell_type": "code",
   "execution_count": 1,
   "id": "06b051c5",
   "metadata": {},
   "outputs": [],
   "source": [
    "import tkinter as tk"
   ]
  },
  {
   "cell_type": "code",
   "execution_count": 2,
   "id": "c055ac79",
   "metadata": {},
   "outputs": [],
   "source": [
    "root = tk.Tk()"
   ]
  },
  {
   "cell_type": "code",
   "execution_count": 3,
   "id": "cf1db6ee",
   "metadata": {},
   "outputs": [],
   "source": [
    "listbox_widget = tk.Listbox(root)"
   ]
  },
  {
   "cell_type": "code",
   "execution_count": 4,
   "id": "814caa57",
   "metadata": {},
   "outputs": [],
   "source": [
    "listbox_entries =[\"Entry 1\",\"Entry 2\",\"Entry 3\",\"Entry 4\"]\n",
    "                       "
   ]
  },
  {
   "cell_type": "code",
   "execution_count": 5,
   "id": "6daafa3c",
   "metadata": {},
   "outputs": [],
   "source": [
    "for entry in listbox_entries:\n",
    "    listbox_widget.insert(tk.END, entry)"
   ]
  },
  {
   "cell_type": "code",
   "execution_count": 6,
   "id": "4fd84e4b",
   "metadata": {},
   "outputs": [],
   "source": [
    "listbox_widget.pack()"
   ]
  },
  {
   "cell_type": "code",
   "execution_count": 7,
   "id": "71cdfff6",
   "metadata": {},
   "outputs": [],
   "source": [
    "root.mainloop()"
   ]
  },
  {
   "cell_type": "code",
   "execution_count": null,
   "id": "21bad48b",
   "metadata": {},
   "outputs": [],
   "source": []
  }
 ],
 "metadata": {
  "kernelspec": {
   "display_name": "Python 3 (ipykernel)",
   "language": "python",
   "name": "python3"
  },
  "language_info": {
   "codemirror_mode": {
    "name": "ipython",
    "version": 3
   },
   "file_extension": ".py",
   "mimetype": "text/x-python",
   "name": "python",
   "nbconvert_exporter": "python",
   "pygments_lexer": "ipython3",
   "version": "3.9.15"
  }
 },
 "nbformat": 4,
 "nbformat_minor": 5
}
