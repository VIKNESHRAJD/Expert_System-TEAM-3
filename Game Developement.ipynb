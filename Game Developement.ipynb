{
 "cells": [
  {
   "cell_type": "code",
   "execution_count": 1,
   "id": "a9517ce9",
   "metadata": {},
   "outputs": [
    {
     "name": "stdout",
     "output_type": "stream",
     "text": [
      "Requirement already satisfied: pygame in c:\\users\\aedpu\\anaconda3\\envs\\vikneshrajd\\lib\\site-packages (2.3.0)\n",
      "Note: you may need to restart the kernel to use updated packages.\n"
     ]
    }
   ],
   "source": [
    "pip install pygame"
   ]
  },
  {
   "cell_type": "code",
   "execution_count": 2,
   "id": "1c962e79",
   "metadata": {},
   "outputs": [
    {
     "ename": "SyntaxError",
     "evalue": "(unicode error) 'unicodeescape' codec can't decode bytes in position 2-3: truncated \\UXXXXXXXX escape (664595700.py, line 9)",
     "output_type": "error",
     "traceback": [
      "\u001b[1;36m  Cell \u001b[1;32mIn[2], line 9\u001b[1;36m\u001b[0m\n\u001b[1;33m    image = pygame.image.load('C:\\Users\\aedpu\\OneDrive\\Desktop\\DFBEagle.png')\u001b[0m\n\u001b[1;37m                                                                            ^\u001b[0m\n\u001b[1;31mSyntaxError\u001b[0m\u001b[1;31m:\u001b[0m (unicode error) 'unicodeescape' codec can't decode bytes in position 2-3: truncated \\UXXXXXXXX escape\n"
     ]
    }
   ],
   "source": [
    "import pygame\n",
    "pygame.init()\n",
    "white = (0, 255, 255)\n",
    "\n",
    "display_surface = pygame.display.set_mode((920,600))\n",
    "\n",
    "pygame.display.set_caption('HI AI Students')\n",
    "\n",
    "image = pygame.image.load('C:\\Users\\aedpu\\OneDrive\\Desktop\\DFBEagle.png')\n",
    "\n",
    "while True:\n",
    "    display_surface.fill(white)\n",
    "    display_surface.blit(image, (0, 0))\n",
    "    \n",
    "    for event in pygame.event.get():\n",
    "        if event.type == pygame.QUIT:\n",
    "            pygame.quit()\n",
    "            \n",
    "            quit()\n",
    "            \n",
    "        pygame.display.update()"
   ]
  },
  {
   "cell_type": "code",
   "execution_count": null,
   "id": "3fa9ac33",
   "metadata": {},
   "outputs": [],
   "source": []
  }
 ],
 "metadata": {
  "kernelspec": {
   "display_name": "Python 3 (ipykernel)",
   "language": "python",
   "name": "python3"
  },
  "language_info": {
   "codemirror_mode": {
    "name": "ipython",
    "version": 3
   },
   "file_extension": ".py",
   "mimetype": "text/x-python",
   "name": "python",
   "nbconvert_exporter": "python",
   "pygments_lexer": "ipython3",
   "version": "3.9.15"
  }
 },
 "nbformat": 4,
 "nbformat_minor": 5
}
