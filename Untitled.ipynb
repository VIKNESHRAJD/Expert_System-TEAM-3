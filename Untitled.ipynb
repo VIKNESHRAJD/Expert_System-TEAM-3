{
 "cells": [
  {
   "cell_type": "code",
   "execution_count": 4,
   "id": "c3de6dd4",
   "metadata": {},
   "outputs": [
    {
     "name": "stdout",
     "output_type": "stream",
     "text": [
      "Welcome to the visa application form\n",
      "Please enter your full name: vikki\n",
      "Please enter your age: 20\n",
      "Please enter your country of citizenship:  india\n",
      "You are not eligible to apply for a visa at this time.\n"
     ]
    }
   ],
   "source": [
    "print(\"Welcome to the visa application form\")\n",
    "name = input(\"Please enter your full name: \")\n",
    "age = int(input(\"Please enter your age: \"))\n",
    "country = input(\"Please enter your country of citizenship: \")\n",
    "\n",
    "if age >= 18 and country == \"United States\":\n",
    "    print(\"For the following questions, please enter either yes or no.\")\n",
    "    travel = input(\"Have you travelled outside of the United States in the past 14 days? \")\n",
    "    work = input(\"Do you plan to work in the United States? \")\n",
    "    stay = input(\"How long do you plan to stay in the United States? \")\n",
    "\n",
    "    if travel == \"no\" and work == \"no\":\n",
    "        if stay <= 90:\n",
    "            print(\"Your visa application has been approved. Enjoy your trip!\")\n",
    "        else:\n",
    "            print(\"You may need to apply for a different type of visa.\")\n",
    "    else:\n",
    "        print(\"Your visa application has been denied.\")\n",
    "else:\n",
    "    print(\"You are not eligible to apply for a visa at this time.\")\n"
   ]
  },
  {
   "cell_type": "code",
   "execution_count": null,
   "id": "a9578c53",
   "metadata": {},
   "outputs": [],
   "source": []
  },
  {
   "cell_type": "code",
   "execution_count": null,
   "id": "e981a8fa",
   "metadata": {},
   "outputs": [],
   "source": []
  }
 ],
 "metadata": {
  "kernelspec": {
   "display_name": "Python 3 (ipykernel)",
   "language": "python",
   "name": "python3"
  },
  "language_info": {
   "codemirror_mode": {
    "name": "ipython",
    "version": 3
   },
   "file_extension": ".py",
   "mimetype": "text/x-python",
   "name": "python",
   "nbconvert_exporter": "python",
   "pygments_lexer": "ipython3",
   "version": "3.9.13"
  }
 },
 "nbformat": 4,
 "nbformat_minor": 5
}
