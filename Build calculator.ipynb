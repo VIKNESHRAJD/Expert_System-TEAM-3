{
 "cells": [
  {
   "cell_type": "markdown",
   "id": "446aebc8",
   "metadata": {},
   "source": [
    "# 1 Importing Library"
   ]
  },
  {
   "cell_type": "code",
   "execution_count": 1,
   "id": "89a09fa6",
   "metadata": {},
   "outputs": [],
   "source": [
    "from tkinter import*\n",
    "import math"
   ]
  },
  {
   "cell_type": "markdown",
   "id": "1b33346a",
   "metadata": {},
   "source": [
    "# 2 Creating Root Window"
   ]
  },
  {
   "cell_type": "code",
   "execution_count": 2,
   "id": "b46770d8",
   "metadata": {},
   "outputs": [],
   "source": [
    "root = Tk()\n",
    "root.title(\"Scientific Calculator\")\n",
    "root.configure(background = 'black')\n",
    "root.geometry(\"491x724\")\n",
    "calc = Frame(root)\n",
    "calc.grid()"
   ]
  },
  {
   "cell_type": "markdown",
   "id": "ba34df47",
   "metadata": {},
   "source": [
    "# 3 Creating Classes of Buttons"
   ]
  },
  {
   "cell_type": "code",
   "execution_count": 3,
   "id": "c0968c8e",
   "metadata": {},
   "outputs": [],
   "source": [
    "class Calc():\n",
    "    def _init_ (self):\n",
    "        self.total=0\n",
    "        self.current=''\n",
    "        self.input_value=True\n",
    "        self.check_sum=False\n",
    "        self.op=''\n",
    "        self.result=False\n",
    "        \n",
    "    def numberEnter(self, num):\n",
    "        self.result = False\n",
    "        firstnum = txtDisplay.get()\n",
    "        secondnum = str(num)\n",
    "        if self.input_value:\n",
    "            self.current = secondnum\n",
    "            self.input_value = False\n",
    "        else:\n",
    "            if secondnum =='.':\n",
    "                if secondnum in firstnum:\n",
    "                    return\n",
    "            self.current = firstnm+secondnum\n",
    "        self.display(self.current)\n",
    "        \n",
    "    def sum_of_total(self):\n",
    "        self.result = True\n",
    "        self.current = float(self.current)\n",
    "        if self.check_sum == True:\n",
    "            self.valid_function()\n",
    "        else:\n",
    "            self.total = float()(txtDisplay.get())\n",
    "            \n",
    "    def display(self, value):\n",
    "        txtDisplay.delete(0, END)\n",
    "        txtDisplay.insert(0, value)\n",
    "    \n",
    "    def display1(self, value):\n",
    "        txtDisplay1.delete(0, END)\n",
    "        txtDisplay1.insert(0, value)\n",
    "        \n",
    "    def valid_function(self):\n",
    "        if self.op == \"add\":\n",
    "            self.total += self.current\n",
    "        if self.op == \"sub\":\n",
    "            self.total -= self.current\n",
    "        if self.op == \"multi\":\n",
    "            self.total *= self.current\n",
    "        if self.op == \"divide\":\n",
    "            self.total %= self.current\n",
    "        if self.op == \"mod\":\n",
    "            self.total /= self.current\n",
    "        self.input_value = True\n",
    "        self.check_sum = False\n",
    "        self.display1(self.total)\n",
    "        \n",
    "    def operation(self, op):\n",
    "        self.current = float(self.current)\n",
    "        if self.check_sum:\n",
    "            self.valid_function()\n",
    "        elif not self.result:\n",
    "            self.total = self.current\n",
    "            self.input_value = True\n",
    "        self.check_sum = True\n",
    "        self.op = op\n",
    "        self.result = False\n",
    "        \n",
    "    def clear_Entry(self):\n",
    "        self.result = False\n",
    "        self.current = \"0\"        \n",
    "        self.display(0)\n",
    "        self.display1(0)\n",
    "        self.input_value = False\n",
    "        \n",
    "    def pip(self):\n",
    "        self.result = False\n",
    "        self.current = math.pi        \n",
    "        self.display(self.current)\n",
    "        \n",
    "    def cos(self):\n",
    "        self.result = False\n",
    "        self.current = math .coc(math.radians(float(txtDisplay.get())))        \n",
    "        self.display1(self.current)\n",
    "        \n",
    "    def sin(self):\n",
    "        self.result = False\n",
    "        self.current = math.sin(math.radians(float(txtDisplay.get())))         \n",
    "        self.display1(self.current)\n",
    "        \n",
    "    def tan(self):\n",
    "        self.result = False\n",
    "        self.current = math.tan(math.radians(float(txtDisplay.get())))         \n",
    "        self.display1(self.current)\n",
    "        \n",
    "    def squared(self):\n",
    "        self.result = False\n",
    "        self.current = math.sqrt(math.radians(float(txtDisplay.get())))         \n",
    "        self.display1(self.current)\n",
    "        \n",
    "added_value = Calc()"
   ]
  },
  {
   "cell_type": "markdown",
   "id": "83ebf310",
   "metadata": {},
   "source": [
    "# 4 Creating display for the calculator"
   ]
  },
  {
   "cell_type": "markdown",
   "id": "2e8999e7",
   "metadata": {},
   "source": [
    "# 5 Creating number pad"
   ]
  },
  {
   "cell_type": "code",
   "execution_count": 4,
   "id": "107b83a6",
   "metadata": {},
   "outputs": [],
   "source": [
    "txtDisplay = Entry(calc, font=('Helvetica',20,'bold'),bg='black',fg='white',bd=20,width=30,justify=RIGHT)\n",
    "txtDisplay.grid(row=0,column=0,columnspan=4,pady=1)\n",
    "txtDisplay.insert(0,\"0\")\n",
    "txtDisplay1 = Entry(calc, font=('Helvetica',20,'bold'),bg='black',fg='white',bd=20,width=30,justify=RIGHT)\n",
    "txtDisplay1.grid(row=1,column=0,columnspan=4,pady=1)\n",
    "txtDisplay1.insert(0,\"0\")"
   ]
  },
  {
   "cell_type": "code",
   "execution_count": 5,
   "id": "d1092035",
   "metadata": {},
   "outputs": [],
   "source": [
    "numberpad = \"123456789\"\n",
    "i=0\n",
    "btn = []\n",
    "for j in range(3,6):\n",
    "    for k in range(3):\n",
    "        btn.append(Button(calc, width=6, height=2, bg='violet',fg='black', font= ('cambria',20,'bold'),bd=4,text=numberpad[i]))\n",
    "        btn[i].grid(row=j, column= k,pady = 1)\n",
    "        btn[i][\"command\"]=lambda x=numberpad[i]:added_value.numberEnter(x)\n",
    "        i+=1\n",
    "        "
   ]
  },
  {
   "cell_type": "markdown",
   "id": "de05d0ea",
   "metadata": {},
   "source": [
    "# 6 Creating Button"
   ]
  },
  {
   "cell_type": "code",
   "execution_count": 6,
   "id": "1198c88f",
   "metadata": {},
   "outputs": [],
   "source": [
    "btnClear = Button(calc, text=chr(67),width=6, height=2,bg='lightblue',fg='black', font=('Elephant Pro',20,'bold'),bd=4, command=added_value.clear_Entry).grid(row=2, column=3 ,pady = 1)\n",
    "\n",
    "btnAdd = Button(calc, text=\"+\",width=6, height=2,bg='orange',fg='black', font=('Elephant Pro',20,'bold'),bd=4,command=lambda:added_value.operation(\"add\")).grid(row=6, column=3, pady = 1)\n",
    "\n",
    "btnSub = Button(calc, text=\"-\",width=6, height=2,bg='orange',fg='black', font=('Elephant Pro',20,'bold'),bd=4,command=lambda:added_value.operation(\"sub\")).grid(row=5, column=3, pady = 1)\n",
    "\n",
    "btnMul = Button(calc, text=\"x\",width=6, height=2,bg='orange',fg='black', font=('Elephant Pro',20,'bold'),bd=4,command=lambda:added_value.operation(\"multi\")).grid(row=3, column=3, pady = 1)\n",
    "\n",
    "btnDiv = Button(calc, text=\"/\",width=6, height=2,bg='orange',fg='black', font=('Elephant Pro',20,'bold'),bd=4,command=lambda:added_value.operation(\"divide\")).grid(row=4, column=3, pady = 1)\n",
    "\n",
    "btnZero = Button(calc, text=\"0\",width=6, height=2,bg='violet',fg='black', font=('Elephant Pro',20,'bold'),bd=4,command=lambda:added_value.numberEnter(0)).grid(row=6, column=0, pady = 1)\n",
    "\n",
    "btnDot = Button(calc, text=\".\",width=6, height=2,bg='violet',fg='black', font=('Elephant Pro',20,'bold'),bd=4,command=lambda:added_value.numberEnter(\".\")).grid(row=6, column=1, pady = 1)\n",
    "\n",
    "btnopenbrace = Button(calc, text=\"(\",width=6, height=2,bg='green',fg='black', font=('Elephant Pro',20,'bold'),bd=4,command=lambda:added_value.numberEnter(\"(\")).grid(row=7, column=1, pady = 1)\n",
    "\n",
    "btnclosbrace = Button(calc, text=\")\",width=6, height=2,bg='green',fg='black', font=('Elephant Pro',20,'bold'),bd=4,command=lambda:added_value.numberEnter(\")\")).grid(row=7, column=2, pady = 1)\n",
    "\n",
    "btnEquals = Button(calc, text=\"=\",width=6, height=2,bg='red',fg='black', font=('Elephant Pro',20,'bold'),bd=4,command=lambda:added_value.sum_of_total).grid(row=7, column=3, pady = 1)\n",
    "\n",
    "btnsq = Button(calc, text=\"\\u221A\",width=6, height=2,bg='violet',fg='black', font=('Elephant Pro',20,'bold'),bd=4,command=lambda:added_value.squared).grid(row=6, column=2, pady = 1)\n",
    "\n",
    "btnPi = Button(calc, text=\"Pi\",width=6, height=2,bg='green',fg='black', font=('Elephant Pro',20,'bold'),bd=4,command=lambda:added_value.pi).grid(row=7, column=0, pady = 1)\n",
    "\n",
    "btncos= Button(calc, text=\"cos\",width=6, height=2,bg='yellow',fg='red', font=('Elephant Pro',20,'bold'),bd=4,command=lambda:added_value.cos).grid(row=2, column=1, pady = 1)\n",
    "\n",
    "btnsin= Button(calc, text=\"cos\",width=6, height=2,bg='yellow',fg='black', font=('Elephant Pro',20,'bold'),bd=4,command=lambda:added_value.sin).grid(row=2, column=0, pady = 1)\n",
    "               \n",
    "btntan= Button(calc, text=\"tan\",width=6, height=2,bg='yellow',fg='black', font=('Elephant Pro',20,'bold'),bd=4,command=lambda:added_value.tan).grid(row=2, column=2, pady = 1)\n",
    "\n"
   ]
  },
  {
   "cell_type": "markdown",
   "id": "7105930e",
   "metadata": {},
   "source": [
    "# call a window"
   ]
  },
  {
   "cell_type": "code",
   "execution_count": 7,
   "id": "73bc530f",
   "metadata": {},
   "outputs": [
    {
     "name": "stderr",
     "output_type": "stream",
     "text": [
      "Exception in Tkinter callback\n",
      "Traceback (most recent call last):\n",
      "  File \"C:\\Users\\aedpu\\anaconda3\\envs\\VIKNESHRAJD\\lib\\tkinter\\__init__.py\", line 1892, in __call__\n",
      "    return self.func(*args)\n",
      "  File \"C:\\Users\\aedpu\\AppData\\Local\\Temp\\ipykernel_2776\\2259082306.py\", line 8, in <lambda>\n",
      "    btn[i][\"command\"]=lambda x=numberpad[i]:added_value.numberEnter(x)\n",
      "  File \"C:\\Users\\aedpu\\AppData\\Local\\Temp\\ipykernel_2776\\1185260746.py\", line 14, in numberEnter\n",
      "    if self.input_value:\n",
      "AttributeError: 'Calc' object has no attribute 'input_value'\n",
      "Exception in Tkinter callback\n",
      "Traceback (most recent call last):\n",
      "  File \"C:\\Users\\aedpu\\anaconda3\\envs\\VIKNESHRAJD\\lib\\tkinter\\__init__.py\", line 1892, in __call__\n",
      "    return self.func(*args)\n",
      "  File \"C:\\Users\\aedpu\\AppData\\Local\\Temp\\ipykernel_2776\\2259082306.py\", line 8, in <lambda>\n",
      "    btn[i][\"command\"]=lambda x=numberpad[i]:added_value.numberEnter(x)\n",
      "  File \"C:\\Users\\aedpu\\AppData\\Local\\Temp\\ipykernel_2776\\1185260746.py\", line 14, in numberEnter\n",
      "    if self.input_value:\n",
      "AttributeError: 'Calc' object has no attribute 'input_value'\n",
      "Exception in Tkinter callback\n",
      "Traceback (most recent call last):\n",
      "  File \"C:\\Users\\aedpu\\anaconda3\\envs\\VIKNESHRAJD\\lib\\tkinter\\__init__.py\", line 1892, in __call__\n",
      "    return self.func(*args)\n",
      "  File \"C:\\Users\\aedpu\\AppData\\Local\\Temp\\ipykernel_2776\\2259082306.py\", line 8, in <lambda>\n",
      "    btn[i][\"command\"]=lambda x=numberpad[i]:added_value.numberEnter(x)\n",
      "  File \"C:\\Users\\aedpu\\AppData\\Local\\Temp\\ipykernel_2776\\1185260746.py\", line 14, in numberEnter\n",
      "    if self.input_value:\n",
      "AttributeError: 'Calc' object has no attribute 'input_value'\n",
      "Exception in Tkinter callback\n",
      "Traceback (most recent call last):\n",
      "  File \"C:\\Users\\aedpu\\anaconda3\\envs\\VIKNESHRAJD\\lib\\tkinter\\__init__.py\", line 1892, in __call__\n",
      "    return self.func(*args)\n",
      "  File \"C:\\Users\\aedpu\\AppData\\Local\\Temp\\ipykernel_2776\\2259082306.py\", line 8, in <lambda>\n",
      "    btn[i][\"command\"]=lambda x=numberpad[i]:added_value.numberEnter(x)\n",
      "  File \"C:\\Users\\aedpu\\AppData\\Local\\Temp\\ipykernel_2776\\1185260746.py\", line 14, in numberEnter\n",
      "    if self.input_value:\n",
      "AttributeError: 'Calc' object has no attribute 'input_value'\n",
      "Exception in Tkinter callback\n",
      "Traceback (most recent call last):\n",
      "  File \"C:\\Users\\aedpu\\anaconda3\\envs\\VIKNESHRAJD\\lib\\tkinter\\__init__.py\", line 1892, in __call__\n",
      "    return self.func(*args)\n",
      "  File \"C:\\Users\\aedpu\\AppData\\Local\\Temp\\ipykernel_2776\\2259082306.py\", line 8, in <lambda>\n",
      "    btn[i][\"command\"]=lambda x=numberpad[i]:added_value.numberEnter(x)\n",
      "  File \"C:\\Users\\aedpu\\AppData\\Local\\Temp\\ipykernel_2776\\1185260746.py\", line 14, in numberEnter\n",
      "    if self.input_value:\n",
      "AttributeError: 'Calc' object has no attribute 'input_value'\n",
      "Exception in Tkinter callback\n",
      "Traceback (most recent call last):\n",
      "  File \"C:\\Users\\aedpu\\anaconda3\\envs\\VIKNESHRAJD\\lib\\tkinter\\__init__.py\", line 1892, in __call__\n",
      "    return self.func(*args)\n",
      "  File \"C:\\Users\\aedpu\\AppData\\Local\\Temp\\ipykernel_2776\\859555089.py\", line 3, in <lambda>\n",
      "    btnAdd = Button(calc, text=\"+\",width=6, height=2,bg='orange',fg='black', font=('Elephant Pro',20,'bold'),bd=4,command=lambda:added_value.operation(\"add\")).grid(row=6, column=3, pady = 1)\n",
      "  File \"C:\\Users\\aedpu\\AppData\\Local\\Temp\\ipykernel_2776\\1185260746.py\", line 56, in operation\n",
      "    self.current = float(self.current)\n",
      "AttributeError: 'Calc' object has no attribute 'current'\n",
      "Exception in Tkinter callback\n",
      "Traceback (most recent call last):\n",
      "  File \"C:\\Users\\aedpu\\anaconda3\\envs\\VIKNESHRAJD\\lib\\tkinter\\__init__.py\", line 1892, in __call__\n",
      "    return self.func(*args)\n",
      "  File \"C:\\Users\\aedpu\\AppData\\Local\\Temp\\ipykernel_2776\\2259082306.py\", line 8, in <lambda>\n",
      "    btn[i][\"command\"]=lambda x=numberpad[i]:added_value.numberEnter(x)\n",
      "  File \"C:\\Users\\aedpu\\AppData\\Local\\Temp\\ipykernel_2776\\1185260746.py\", line 14, in numberEnter\n",
      "    if self.input_value:\n",
      "AttributeError: 'Calc' object has no attribute 'input_value'\n"
     ]
    }
   ],
   "source": [
    "root.mainloop()"
   ]
  },
  {
   "cell_type": "code",
   "execution_count": null,
   "id": "26c3b8b3",
   "metadata": {},
   "outputs": [],
   "source": []
  }
 ],
 "metadata": {
  "kernelspec": {
   "display_name": "Python 3 (ipykernel)",
   "language": "python",
   "name": "python3"
  },
  "language_info": {
   "codemirror_mode": {
    "name": "ipython",
    "version": 3
   },
   "file_extension": ".py",
   "mimetype": "text/x-python",
   "name": "python",
   "nbconvert_exporter": "python",
   "pygments_lexer": "ipython3",
   "version": "3.9.15"
  }
 },
 "nbformat": 4,
 "nbformat_minor": 5
}
