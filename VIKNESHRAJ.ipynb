{
 "cells": [
  {
   "cell_type": "markdown",
   "id": "782db3c9",
   "metadata": {},
   "source": [
    "# VARIABLE"
   ]
  },
  {
   "cell_type": "code",
   "execution_count": 11,
   "id": "ba7e8424",
   "metadata": {},
   "outputs": [
    {
     "name": "stdout",
     "output_type": "stream",
     "text": [
      "10\n"
     ]
    }
   ],
   "source": [
    "my_var = 10\n",
    "print (my_var)"
   ]
  },
  {
   "cell_type": "code",
   "execution_count": 16,
   "id": "70e953b9",
   "metadata": {},
   "outputs": [
    {
     "name": "stdout",
     "output_type": "stream",
     "text": [
      "15\n"
     ]
    }
   ],
   "source": [
    "A10 = 15\n",
    "print (A10)"
   ]
  },
  {
   "cell_type": "code",
   "execution_count": 18,
   "id": "b2928cbb",
   "metadata": {},
   "outputs": [
    {
     "data": {
      "text/plain": [
       "'hola'"
      ]
     },
     "execution_count": 18,
     "metadata": {},
     "output_type": "execute_result"
    }
   ],
   "source": [
    "_test = 'hola'\n",
    "_test"
   ]
  },
  {
   "cell_type": "code",
   "execution_count": 37,
   "id": "7777dc94",
   "metadata": {},
   "outputs": [
    {
     "data": {
      "text/plain": [
       "(2, 4, 6, 8)"
      ]
     },
     "execution_count": 37,
     "metadata": {},
     "output_type": "execute_result"
    }
   ],
   "source": [
    "done = (2,4,6,8)\n",
    "done "
   ]
  },
  {
   "cell_type": "code",
   "execution_count": 41,
   "id": "880e878e",
   "metadata": {},
   "outputs": [],
   "source": [
    "Name ='LEO'\n",
    "age = 35"
   ]
  },
  {
   "cell_type": "code",
   "execution_count": 3,
   "id": "7d83a2ba",
   "metadata": {},
   "outputs": [
    {
     "data": {
      "text/plain": [
       "10"
      ]
     },
     "execution_count": 3,
     "metadata": {},
     "output_type": "execute_result"
    }
   ],
   "source": [
    "CLASS"
   ]
  },
  {
   "cell_type": "code",
   "execution_count": 2,
   "id": "b71c7f83",
   "metadata": {},
   "outputs": [],
   "source": [
    "CLASS = 10"
   ]
  },
  {
   "cell_type": "code",
   "execution_count": 6,
   "id": "49a21ec8",
   "metadata": {},
   "outputs": [],
   "source": []
  },
  {
   "cell_type": "code",
   "execution_count": 10,
   "id": "eb4f37a3",
   "metadata": {},
   "outputs": [],
   "source": [
    "a,b,c,d=1,2,3,4\n",
    " "
   ]
  },
  {
   "cell_type": "code",
   "execution_count": 11,
   "id": "f17a245d",
   "metadata": {},
   "outputs": [
    {
     "data": {
      "text/plain": [
       "1"
      ]
     },
     "execution_count": 11,
     "metadata": {},
     "output_type": "execute_result"
    }
   ],
   "source": [
    "a"
   ]
  },
  {
   "cell_type": "code",
   "execution_count": 12,
   "id": "0503d0db",
   "metadata": {},
   "outputs": [
    {
     "data": {
      "text/plain": [
       "2"
      ]
     },
     "execution_count": 12,
     "metadata": {},
     "output_type": "execute_result"
    }
   ],
   "source": [
    "b"
   ]
  },
  {
   "cell_type": "code",
   "execution_count": 13,
   "id": "097e6e3e",
   "metadata": {},
   "outputs": [
    {
     "data": {
      "text/plain": [
       "3"
      ]
     },
     "execution_count": 13,
     "metadata": {},
     "output_type": "execute_result"
    }
   ],
   "source": [
    "c"
   ]
  },
  {
   "cell_type": "code",
   "execution_count": 14,
   "id": "61e76cf6",
   "metadata": {},
   "outputs": [
    {
     "data": {
      "text/plain": [
       "4"
      ]
     },
     "execution_count": 14,
     "metadata": {},
     "output_type": "execute_result"
    }
   ],
   "source": [
    "d"
   ]
  },
  {
   "cell_type": "code",
   "execution_count": 17,
   "id": "80fe0395",
   "metadata": {},
   "outputs": [],
   "source": [
    "vikki , leo , messi = 9,10,10"
   ]
  },
  {
   "cell_type": "code",
   "execution_count": 18,
   "id": "402447d5",
   "metadata": {},
   "outputs": [
    {
     "data": {
      "text/plain": [
       "9"
      ]
     },
     "execution_count": 18,
     "metadata": {},
     "output_type": "execute_result"
    }
   ],
   "source": [
    "vikki"
   ]
  },
  {
   "cell_type": "code",
   "execution_count": 19,
   "id": "90539a9d",
   "metadata": {},
   "outputs": [
    {
     "data": {
      "text/plain": [
       "10"
      ]
     },
     "execution_count": 19,
     "metadata": {},
     "output_type": "execute_result"
    }
   ],
   "source": [
    "leo"
   ]
  },
  {
   "cell_type": "code",
   "execution_count": 20,
   "id": "e781d713",
   "metadata": {},
   "outputs": [
    {
     "data": {
      "text/plain": [
       "10"
      ]
     },
     "execution_count": 20,
     "metadata": {},
     "output_type": "execute_result"
    }
   ],
   "source": [
    "messi"
   ]
  },
  {
   "cell_type": "code",
   "execution_count": 36,
   "id": "7d0f7d51",
   "metadata": {},
   "outputs": [],
   "source": [
    "ynwa,fcb,rma,spurs,para = \"vikki\",10,30,leo,25"
   ]
  },
  {
   "cell_type": "code",
   "execution_count": 27,
   "id": "734026d1",
   "metadata": {},
   "outputs": [
    {
     "data": {
      "text/plain": [
       "'vikki'"
      ]
     },
     "execution_count": 27,
     "metadata": {},
     "output_type": "execute_result"
    }
   ],
   "source": [
    "ynwa"
   ]
  },
  {
   "cell_type": "code",
   "execution_count": 28,
   "id": "b37e07a8",
   "metadata": {},
   "outputs": [
    {
     "data": {
      "text/plain": [
       "10"
      ]
     },
     "execution_count": 28,
     "metadata": {},
     "output_type": "execute_result"
    }
   ],
   "source": [
    "fcb"
   ]
  },
  {
   "cell_type": "code",
   "execution_count": 29,
   "id": "39880a49",
   "metadata": {},
   "outputs": [
    {
     "data": {
      "text/plain": [
       "30"
      ]
     },
     "execution_count": 29,
     "metadata": {},
     "output_type": "execute_result"
    }
   ],
   "source": [
    "rma"
   ]
  },
  {
   "cell_type": "code",
   "execution_count": 30,
   "id": "bffe6e8e",
   "metadata": {},
   "outputs": [
    {
     "data": {
      "text/plain": [
       "10"
      ]
     },
     "execution_count": 30,
     "metadata": {},
     "output_type": "execute_result"
    }
   ],
   "source": [
    "spurs"
   ]
  },
  {
   "cell_type": "code",
   "execution_count": 33,
   "id": "af24c73e",
   "metadata": {},
   "outputs": [
    {
     "data": {
      "text/plain": [
       "25"
      ]
     },
     "execution_count": 33,
     "metadata": {},
     "output_type": "execute_result"
    }
   ],
   "source": [
    "para"
   ]
  },
  {
   "cell_type": "code",
   "execution_count": 37,
   "id": "38634089",
   "metadata": {},
   "outputs": [],
   "source": [
    "villarreal = 1,2,3,4"
   ]
  },
  {
   "cell_type": "code",
   "execution_count": 38,
   "id": "bc2af980",
   "metadata": {},
   "outputs": [
    {
     "data": {
      "text/plain": [
       "(1, 2, 3, 4)"
      ]
     },
     "execution_count": 38,
     "metadata": {},
     "output_type": "execute_result"
    }
   ],
   "source": [
    "villarreal"
   ]
  },
  {
   "cell_type": "code",
   "execution_count": null,
   "id": "0e67baa9",
   "metadata": {},
   "outputs": [],
   "source": [
    "n"
   ]
  }
 ],
 "metadata": {
  "kernelspec": {
   "display_name": "Python 3 (ipykernel)",
   "language": "python",
   "name": "python3"
  },
  "language_info": {
   "codemirror_mode": {
    "name": "ipython",
    "version": 3
   },
   "file_extension": ".py",
   "mimetype": "text/x-python",
   "name": "python",
   "nbconvert_exporter": "python",
   "pygments_lexer": "ipython3",
   "version": "3.9.13"
  }
 },
 "nbformat": 4,
 "nbformat_minor": 5
}
