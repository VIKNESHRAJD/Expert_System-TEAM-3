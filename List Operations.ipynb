{
 "cells": [
  {
   "cell_type": "markdown",
   "id": "28255e7c",
   "metadata": {},
   "source": [
    "# LIST OPERATIONS"
   ]
  },
  {
   "cell_type": "code",
   "execution_count": 9,
   "id": "7ad1a275",
   "metadata": {},
   "outputs": [
    {
     "data": {
      "text/plain": [
       "['volkswegan', 'BMW', 'mesareti', 'lewis hamilton', 'alonso', 100.5, 'sena']"
      ]
     },
     "execution_count": 9,
     "metadata": {},
     "output_type": "execute_result"
    }
   ],
   "source": [
    "cars = [\"volkswegan\",\"BMW\",\"mesareti\",\"lewis hamilton\",\"alonso\",100.5,\"sena\"]\n",
    "cars"
   ]
  },
  {
   "cell_type": "code",
   "execution_count": 13,
   "id": "e67d6490",
   "metadata": {},
   "outputs": [
    {
     "data": {
      "text/plain": [
       "7"
      ]
     },
     "execution_count": 13,
     "metadata": {},
     "output_type": "execute_result"
    }
   ],
   "source": [
    "len(cars)"
   ]
  },
  {
   "cell_type": "markdown",
   "id": "885ac0f5",
   "metadata": {},
   "source": [
    "# "
   ]
  },
  {
   "cell_type": "markdown",
   "id": "9a2ec37b",
   "metadata": {},
   "source": [
    "# Accessing element in a list"
   ]
  },
  {
   "cell_type": "code",
   "execution_count": 17,
   "id": "73580bbd",
   "metadata": {},
   "outputs": [
    {
     "data": {
      "text/plain": [
       "'lewis hamilton'"
      ]
     },
     "execution_count": 17,
     "metadata": {},
     "output_type": "execute_result"
    }
   ],
   "source": [
    "cars[3]"
   ]
  },
  {
   "cell_type": "code",
   "execution_count": 20,
   "id": "5b5c92c5",
   "metadata": {},
   "outputs": [
    {
     "data": {
      "text/plain": [
       "'alonso'"
      ]
     },
     "execution_count": 20,
     "metadata": {},
     "output_type": "execute_result"
    }
   ],
   "source": [
    "cars[-3]"
   ]
  },
  {
   "cell_type": "code",
   "execution_count": null,
   "id": "d83bf0c4",
   "metadata": {},
   "outputs": [],
   "source": []
  },
  {
   "cell_type": "markdown",
   "id": "073e4ef2",
   "metadata": {},
   "source": [
    "# ADD ELEMENT TO A LIST"
   ]
  },
  {
   "cell_type": "code",
   "execution_count": 28,
   "id": "5b42f1cf",
   "metadata": {},
   "outputs": [],
   "source": [
    "cars.append(\"cadillac\")"
   ]
  },
  {
   "cell_type": "code",
   "execution_count": 23,
   "id": "0aedd0f1",
   "metadata": {},
   "outputs": [
    {
     "data": {
      "text/plain": [
       "['volkswegan',\n",
       " 'BMW',\n",
       " 'mesareti',\n",
       " 'lewis hamilton',\n",
       " 'alonso',\n",
       " 100.5,\n",
       " 'sena',\n",
       " 'cadillac']"
      ]
     },
     "execution_count": 23,
     "metadata": {},
     "output_type": "execute_result"
    }
   ],
   "source": [
    "cars"
   ]
  },
  {
   "cell_type": "code",
   "execution_count": null,
   "id": "be860fd6",
   "metadata": {},
   "outputs": [],
   "source": []
  },
  {
   "cell_type": "markdown",
   "id": "f2708810",
   "metadata": {},
   "source": [
    "# Removing Element to a list"
   ]
  },
  {
   "cell_type": "code",
   "execution_count": 32,
   "id": "bb931e7e",
   "metadata": {},
   "outputs": [],
   "source": [
    "cars.remove(\"cadillac\")"
   ]
  },
  {
   "cell_type": "code",
   "execution_count": 33,
   "id": "a7707fc7",
   "metadata": {},
   "outputs": [
    {
     "data": {
      "text/plain": [
       "['volkswegan',\n",
       " 'BMW',\n",
       " 'mesareti',\n",
       " 'lewis hamilton',\n",
       " 'alonso',\n",
       " 'sena',\n",
       " 'cadillac']"
      ]
     },
     "execution_count": 33,
     "metadata": {},
     "output_type": "execute_result"
    }
   ],
   "source": [
    "cars"
   ]
  },
  {
   "cell_type": "code",
   "execution_count": 34,
   "id": "c0326a19",
   "metadata": {},
   "outputs": [
    {
     "data": {
      "text/plain": [
       "['volkswegan', 'mesareti', 'lewis hamilton', 'alonso', 'sena', 'cadillac']"
      ]
     },
     "execution_count": 34,
     "metadata": {},
     "output_type": "execute_result"
    }
   ],
   "source": [
    "cars.pop(1)\n",
    "cars"
   ]
  },
  {
   "cell_type": "code",
   "execution_count": 35,
   "id": "fca79b38",
   "metadata": {},
   "outputs": [],
   "source": [
    "del cars[5]"
   ]
  },
  {
   "cell_type": "code",
   "execution_count": 36,
   "id": "62892fd8",
   "metadata": {},
   "outputs": [
    {
     "data": {
      "text/plain": [
       "['volkswegan', 'mesareti', 'lewis hamilton', 'alonso', 'sena']"
      ]
     },
     "execution_count": 36,
     "metadata": {},
     "output_type": "execute_result"
    }
   ],
   "source": [
    "cars"
   ]
  },
  {
   "cell_type": "code",
   "execution_count": null,
   "id": "d9c8f25b",
   "metadata": {},
   "outputs": [],
   "source": []
  },
  {
   "cell_type": "markdown",
   "id": "a1c7ead3",
   "metadata": {},
   "source": [
    "# COPY A LIST"
   ]
  },
  {
   "cell_type": "code",
   "execution_count": 41,
   "id": "a6b05248",
   "metadata": {},
   "outputs": [
    {
     "name": "stdout",
     "output_type": "stream",
     "text": [
      "['volkswegan', 'mesareti', 'lewis hamilton', 'alonso', 'sena']\n"
     ]
    }
   ],
   "source": [
    "a = cars.copy()\n",
    "print(a)"
   ]
  },
  {
   "cell_type": "code",
   "execution_count": 42,
   "id": "edfe9c9a",
   "metadata": {},
   "outputs": [
    {
     "data": {
      "text/plain": [
       "['volkswegan', 'mesareti', 'lewis hamilton', 'alonso', 'sena']"
      ]
     },
     "execution_count": 42,
     "metadata": {},
     "output_type": "execute_result"
    }
   ],
   "source": [
    "a"
   ]
  },
  {
   "cell_type": "code",
   "execution_count": null,
   "id": "482bdd6d",
   "metadata": {},
   "outputs": [],
   "source": []
  },
  {
   "cell_type": "markdown",
   "id": "ac6443c8",
   "metadata": {},
   "source": [
    "# LIST CONCANTIENATION"
   ]
  },
  {
   "cell_type": "code",
   "execution_count": 43,
   "id": "bec1b72e",
   "metadata": {},
   "outputs": [
    {
     "name": "stdout",
     "output_type": "stream",
     "text": [
      "['volkswegan', 'mesareti', 'lewis hamilton', 'alonso', 'sena', 'volkswegan', 'mesareti', 'lewis hamilton', 'alonso', 'sena']\n"
     ]
    }
   ],
   "source": [
    "b = a+cars\n",
    "print(b)"
   ]
  },
  {
   "cell_type": "code",
   "execution_count": null,
   "id": "3773c24d",
   "metadata": {},
   "outputs": [],
   "source": []
  },
  {
   "cell_type": "markdown",
   "id": "a2ab1f6a",
   "metadata": {},
   "source": [
    "# Creating List"
   ]
  },
  {
   "cell_type": "code",
   "execution_count": 50,
   "id": "cd519109",
   "metadata": {},
   "outputs": [],
   "source": [
    "a=[2,2,6,8,10,12]\n",
    "b=[2,4,6,8,10,12]"
   ]
  },
  {
   "cell_type": "code",
   "execution_count": 51,
   "id": "c1764e57",
   "metadata": {},
   "outputs": [
    {
     "data": {
      "text/plain": [
       "list"
      ]
     },
     "execution_count": 51,
     "metadata": {},
     "output_type": "execute_result"
    }
   ],
   "source": [
    "type(a)"
   ]
  },
  {
   "cell_type": "markdown",
   "id": "bde6bb06",
   "metadata": {},
   "source": [
    "# COMPARE LIST "
   ]
  },
  {
   "cell_type": "code",
   "execution_count": 52,
   "id": "301a2c28",
   "metadata": {},
   "outputs": [],
   "source": [
    "a.sort()\n",
    "b.sort()"
   ]
  },
  {
   "cell_type": "code",
   "execution_count": 53,
   "id": "ba40ccf1",
   "metadata": {
    "scrolled": true
   },
   "outputs": [
    {
     "data": {
      "text/plain": [
       "[2, 2, 6, 8, 10, 12]"
      ]
     },
     "execution_count": 53,
     "metadata": {},
     "output_type": "execute_result"
    }
   ],
   "source": [
    "a"
   ]
  },
  {
   "cell_type": "code",
   "execution_count": 54,
   "id": "39c8441d",
   "metadata": {},
   "outputs": [
    {
     "data": {
      "text/plain": [
       "[2, 4, 6, 8, 10, 12]"
      ]
     },
     "execution_count": 54,
     "metadata": {},
     "output_type": "execute_result"
    }
   ],
   "source": [
    "b"
   ]
  },
  {
   "cell_type": "code",
   "execution_count": null,
   "id": "1bb59157",
   "metadata": {},
   "outputs": [],
   "source": []
  },
  {
   "cell_type": "code",
   "execution_count": 55,
   "id": "d767d4aa",
   "metadata": {},
   "outputs": [
    {
     "name": "stdout",
     "output_type": "stream",
     "text": [
      "Lists are not identical\n"
     ]
    }
   ],
   "source": [
    "if a == b:\n",
    "     print(\"Lists are identical\")\n",
    "else:\n",
    "    print(\"Lists are not identical\")"
   ]
  },
  {
   "cell_type": "code",
   "execution_count": null,
   "id": "beb86734",
   "metadata": {},
   "outputs": [],
   "source": []
  },
  {
   "cell_type": "markdown",
   "id": "720c3f1d",
   "metadata": {},
   "source": [
    "# LIST"
   ]
  },
  {
   "cell_type": "code",
   "execution_count": 56,
   "id": "a9e2259c",
   "metadata": {},
   "outputs": [],
   "source": [
    "players = [\"leo\",\"maldini\",\"maradona\"]\n",
    "clubs= [\"leo\",\"maldini\",\"maradona\"]"
   ]
  },
  {
   "cell_type": "code",
   "execution_count": 61,
   "id": "a2b396b8",
   "metadata": {},
   "outputs": [],
   "source": [
    "players.append(\"romario\")\n"
   ]
  },
  {
   "cell_type": "code",
   "execution_count": 62,
   "id": "ec7da426",
   "metadata": {},
   "outputs": [
    {
     "data": {
      "text/plain": [
       "['leo', 'maldini', 'maradona', 'romario']"
      ]
     },
     "execution_count": 62,
     "metadata": {},
     "output_type": "execute_result"
    }
   ],
   "source": [
    "players"
   ]
  },
  {
   "cell_type": "code",
   "execution_count": 63,
   "id": "52f2f515",
   "metadata": {},
   "outputs": [],
   "source": [
    "clubs.append(\"romario\")"
   ]
  },
  {
   "cell_type": "code",
   "execution_count": 64,
   "id": "d0e1c704",
   "metadata": {},
   "outputs": [
    {
     "data": {
      "text/plain": [
       "['leo', 'maldini', 'maradona', 'romario']"
      ]
     },
     "execution_count": 64,
     "metadata": {},
     "output_type": "execute_result"
    }
   ],
   "source": [
    "clubs"
   ]
  },
  {
   "cell_type": "code",
   "execution_count": 65,
   "id": "ff252ac1",
   "metadata": {},
   "outputs": [],
   "source": [
    "players.sort()\n",
    "clubs.sort()"
   ]
  },
  {
   "cell_type": "code",
   "execution_count": 66,
   "id": "31d6e590",
   "metadata": {},
   "outputs": [
    {
     "data": {
      "text/plain": [
       "['leo', 'maldini', 'maradona', 'romario']"
      ]
     },
     "execution_count": 66,
     "metadata": {},
     "output_type": "execute_result"
    }
   ],
   "source": [
    "players"
   ]
  },
  {
   "cell_type": "code",
   "execution_count": 67,
   "id": "894896cf",
   "metadata": {},
   "outputs": [
    {
     "data": {
      "text/plain": [
       "['leo', 'maldini', 'maradona', 'romario']"
      ]
     },
     "execution_count": 67,
     "metadata": {},
     "output_type": "execute_result"
    }
   ],
   "source": [
    "clubs"
   ]
  },
  {
   "cell_type": "code",
   "execution_count": 68,
   "id": "8b0cef4a",
   "metadata": {},
   "outputs": [
    {
     "name": "stdout",
     "output_type": "stream",
     "text": [
      "['leo', 'maldini', 'maradona', 'romario']\n"
     ]
    }
   ],
   "source": [
    "a=clubs.copy()\n",
    "print(a)"
   ]
  },
  {
   "cell_type": "code",
   "execution_count": 69,
   "id": "383804b0",
   "metadata": {},
   "outputs": [],
   "source": [
    "a.sort()\n",
    "players.sort()"
   ]
  },
  {
   "cell_type": "code",
   "execution_count": 70,
   "id": "6ba1c436",
   "metadata": {},
   "outputs": [
    {
     "data": {
      "text/plain": [
       "['leo', 'maldini', 'maradona', 'romario']"
      ]
     },
     "execution_count": 70,
     "metadata": {},
     "output_type": "execute_result"
    }
   ],
   "source": [
    "a"
   ]
  },
  {
   "cell_type": "code",
   "execution_count": 75,
   "id": "4aab9d7a",
   "metadata": {},
   "outputs": [
    {
     "name": "stdout",
     "output_type": "stream",
     "text": [
      "list equal\n"
     ]
    }
   ],
   "source": [
    "if players == a:\n",
    "    print(\"list equal\")\n",
    "else:\n",
    "    print(\"list not equal\")"
   ]
  },
  {
   "cell_type": "code",
   "execution_count": 76,
   "id": "5e5f6bda",
   "metadata": {},
   "outputs": [
    {
     "data": {
      "text/plain": [
       "['leo', 'maldini', 'maradona', 'romario']"
      ]
     },
     "execution_count": 76,
     "metadata": {},
     "output_type": "execute_result"
    }
   ],
   "source": [
    "players"
   ]
  },
  {
   "cell_type": "code",
   "execution_count": 74,
   "id": "d9751e83",
   "metadata": {},
   "outputs": [
    {
     "data": {
      "text/plain": [
       "['leo', 'maldini', 'maradona', 'romario']"
      ]
     },
     "execution_count": 74,
     "metadata": {},
     "output_type": "execute_result"
    }
   ],
   "source": [
    "a"
   ]
  },
  {
   "cell_type": "code",
   "execution_count": null,
   "id": "0db4b819",
   "metadata": {},
   "outputs": [],
   "source": []
  }
 ],
 "metadata": {
  "kernelspec": {
   "display_name": "Python 3 (ipykernel)",
   "language": "python",
   "name": "python3"
  },
  "language_info": {
   "codemirror_mode": {
    "name": "ipython",
    "version": 3
   },
   "file_extension": ".py",
   "mimetype": "text/x-python",
   "name": "python",
   "nbconvert_exporter": "python",
   "pygments_lexer": "ipython3",
   "version": "3.9.15"
  }
 },
 "nbformat": 4,
 "nbformat_minor": 5
}
