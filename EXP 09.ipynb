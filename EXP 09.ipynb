{
 "cells": [
  {
   "cell_type": "code",
   "execution_count": null,
   "id": "39b251ec",
   "metadata": {},
   "outputs": [],
   "source": [
    "Write the algorithm and execute the python code for breadth first search algorithm"
   ]
  },
  {
   "cell_type": "code",
   "execution_count": 11,
   "id": "32650271",
   "metadata": {},
   "outputs": [],
   "source": [
    "graph={\n",
    "    'sam':['Aaron','Binny'],\n",
    "    'Aaron':['sam','Christine','Danny'],\n",
    "    'Binny':['Elvin','Flin'],\n",
    "    'Christine':['Aaron'],\n",
    "    'Danny':['Aaron'],\n",
    "    'Elvin':['Binny','Gini'],\n",
    "    'Flin':['Binny'],\n",
    "    'Gini':['Elivin']\n",
    "}"
   ]
  },
  {
   "cell_type": "code",
   "execution_count": 12,
   "id": "73e626b7",
   "metadata": {},
   "outputs": [],
   "source": [
    "from collections import deque\n",
    "def bfs(graph,start,goal):\n",
    "    visited=[]\n",
    "    queue=deque([start])\n",
    "    while queue:\n",
    "        node=queue.popleft()\n",
    "        if node not in visited:\n",
    "            visited.append(node)\n",
    "            print(\"I have visited:\",node)\n",
    "            neighbour=graph[node]\n",
    "            if node==goal:\n",
    "                return(\"I have reached the goal, this is my traversed path:\",visited)\n",
    "            for neighbour in neighbour:\n",
    "                queue.append(neighbour)"
   ]
  },
  {
   "cell_type": "code",
   "execution_count": 14,
   "id": "2082beb7",
   "metadata": {
    "scrolled": true
   },
   "outputs": [
    {
     "name": "stdout",
     "output_type": "stream",
     "text": [
      "I have visited: Binny\n",
      "I have visited: Elvin\n",
      "I have visited: Flin\n",
      "I have visited: Gini\n"
     ]
    },
    {
     "data": {
      "text/plain": [
       "('I have reached the goal, this is my traversed path:',\n",
       " ['Binny', 'Elvin', 'Flin', 'Gini'])"
      ]
     },
     "execution_count": 14,
     "metadata": {},
     "output_type": "execute_result"
    }
   ],
   "source": [
    "bfs(graph,'Binny','Gini')"
   ]
  },
  {
   "cell_type": "code",
   "execution_count": null,
   "id": "f6f74463",
   "metadata": {},
   "outputs": [],
   "source": []
  }
 ],
 "metadata": {
  "kernelspec": {
   "display_name": "Python 3 (ipykernel)",
   "language": "python",
   "name": "python3"
  },
  "language_info": {
   "codemirror_mode": {
    "name": "ipython",
    "version": 3
   },
   "file_extension": ".py",
   "mimetype": "text/x-python",
   "name": "python",
   "nbconvert_exporter": "python",
   "pygments_lexer": "ipython3",
   "version": "3.9.15"
  }
 },
 "nbformat": 4,
 "nbformat_minor": 5
}
