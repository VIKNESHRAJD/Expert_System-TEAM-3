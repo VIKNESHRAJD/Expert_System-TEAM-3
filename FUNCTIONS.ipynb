{
 "cells": [
  {
   "cell_type": "markdown",
   "id": "ac11e7c4",
   "metadata": {},
   "source": [
    "# FUNCTIONS"
   ]
  },
  {
   "cell_type": "code",
   "execution_count": 6,
   "id": "0a68ebdb",
   "metadata": {},
   "outputs": [],
   "source": [
    "def Birthday (Name , cake , age):\n",
    "    print(f\"HAPPY BIRTHDAY {Name},you are turning {age} today\")\n",
    "    print(f\"{cake} I Want cake\")"
   ]
  },
  {
   "cell_type": "code",
   "execution_count": 7,
   "id": "53687304",
   "metadata": {},
   "outputs": [
    {
     "name": "stdout",
     "output_type": "stream",
     "text": [
      "HAPPY BIRTHDAY francis,you are turning 20 today\n",
      "butter scotch I Want cake\n"
     ]
    }
   ],
   "source": [
    "Birthday (\"francis\",\"butter scotch\",20)"
   ]
  },
  {
   "cell_type": "code",
   "execution_count": 8,
   "id": "a43e1bbc",
   "metadata": {},
   "outputs": [],
   "source": [
    "def eligiblity (inputage):\n",
    "    if inputage>=18:\n",
    "        print(\"you are eligible for voting\")\n",
    "    else:\n",
    "        print(\"you are not eligible to vote\")\n",
    "        "
   ]
  },
  {
   "cell_type": "code",
   "execution_count": 10,
   "id": "697d8174",
   "metadata": {},
   "outputs": [
    {
     "name": "stdout",
     "output_type": "stream",
     "text": [
      "you are eligible for voting\n"
     ]
    }
   ],
   "source": [
    " eligiblity(18)\n",
    "    "
   ]
  },
  {
   "cell_type": "code",
   "execution_count": 10,
   "id": "43d7a495",
   "metadata": {},
   "outputs": [],
   "source": [
    "def vote (name,age):\n",
    "    if age>=16:\n",
    "        print(f\"{name},you're {age} years old and you are eligible to vote.\")\n",
    "    else:\n",
    "        print(f\"{name},you're {age} years old and you are not eligible to vote.\")\n",
    "        \n",
    "        "
   ]
  },
  {
   "cell_type": "code",
   "execution_count": 11,
   "id": "7bb8b859",
   "metadata": {},
   "outputs": [
    {
     "name": "stdout",
     "output_type": "stream",
     "text": [
      "Francis,you're 17 years old and you are eligible to vote.\n"
     ]
    }
   ],
   "source": [
    "vote(\"Francis\",17)"
   ]
  },
  {
   "cell_type": "code",
   "execution_count": 4,
   "id": "a03607dc",
   "metadata": {},
   "outputs": [
    {
     "name": "stdout",
     "output_type": "stream",
     "text": [
      "Enter your name: vikki\n",
      "Enter your age: 18\n",
      "vikki is 18 years old and you are not eligible to vote.\n"
     ]
    }
   ],
   "source": [
    "name = input(\"Enter your name: \")\n",
    "age = int(input(\"Enter your age: \"))\n",
    "\n",
    "def eligibility(name, age): \n",
    "    if age >= 20:\n",
    "        print(f\"{name} is {age} years old and you are eligible to vote.\")\n",
    "    else:\n",
    "        print(f\"{name} is {age} years old and you are not eligible to vote.\")\n",
    "\n",
    "eligibility(name, age)\n"
   ]
  },
  {
   "cell_type": "markdown",
   "id": "f2b1e64e",
   "metadata": {},
   "source": [
    "# Lambda  "
   ]
  },
  {
   "cell_type": "code",
   "execution_count": 1,
   "id": "dd82b54d",
   "metadata": {},
   "outputs": [],
   "source": [
    "output=lambda n1,n2,n3: n1*n2-n3*n1-n3"
   ]
  },
  {
   "cell_type": "code",
   "execution_count": 2,
   "id": "f62fbe63",
   "metadata": {},
   "outputs": [
    {
     "name": "stdout",
     "output_type": "stream",
     "text": [
      "123\n"
     ]
    }
   ],
   "source": [
    "print(output(10,20,7))"
   ]
  },
  {
   "cell_type": "markdown",
   "id": "8fd948a9",
   "metadata": {},
   "source": [
    "# Iterator and Generators"
   ]
  },
  {
   "cell_type": "code",
   "execution_count": 1,
   "id": "c35557b3",
   "metadata": {},
   "outputs": [
    {
     "data": {
      "text/plain": [
       "list"
      ]
     },
     "execution_count": 1,
     "metadata": {},
     "output_type": "execute_result"
    }
   ],
   "source": [
    "name_list=[\"LEO\",\"ANDRES\",\"MESSI\",\"FCB\"]\n",
    "type(name_list)"
   ]
  },
  {
   "cell_type": "markdown",
   "id": "2ba355d4",
   "metadata": {},
   "source": [
    "# Key word for itrator : iter()"
   ]
  },
  {
   "cell_type": "code",
   "execution_count": 2,
   "id": "60b70a7e",
   "metadata": {},
   "outputs": [
    {
     "data": {
      "text/plain": [
       "list_iterator"
      ]
     },
     "execution_count": 2,
     "metadata": {},
     "output_type": "execute_result"
    }
   ],
   "source": [
    "iterator=iter(name_list)\n",
    "type(iterator)"
   ]
  },
  {
   "cell_type": "code",
   "execution_count": 3,
   "id": "fd880e0a",
   "metadata": {},
   "outputs": [
    {
     "name": "stdout",
     "output_type": "stream",
     "text": [
      "LEO\n"
     ]
    }
   ],
   "source": [
    "name=next(iterator)\n",
    "print(name)"
   ]
  },
  {
   "cell_type": "code",
   "execution_count": 4,
   "id": "e9965d38",
   "metadata": {},
   "outputs": [
    {
     "name": "stdout",
     "output_type": "stream",
     "text": [
      "ANDRES\n",
      "MESSI\n",
      "FCB\n"
     ]
    }
   ],
   "source": [
    "while True:\n",
    "    try:\n",
    "        print(next(iterator))\n",
    "    except StopIteration:\n",
    "        break"
   ]
  },
  {
   "cell_type": "markdown",
   "id": "7db9ffe3",
   "metadata": {},
   "source": [
    "# Generator"
   ]
  },
  {
   "cell_type": "code",
   "execution_count": 5,
   "id": "cdd67135",
   "metadata": {},
   "outputs": [
    {
     "name": "stdout",
     "output_type": "stream",
     "text": [
      "0\n",
      "1\n",
      "1\n",
      "2\n",
      "3\n",
      "\n",
      "Using for loop\n",
      "0\n",
      "1\n",
      "1\n",
      "2\n",
      "3\n",
      "5\n",
      "8\n"
     ]
    }
   ],
   "source": [
    "def fib(limit):\n",
    "    a, b = 0, 1\n",
    "    while a < limit:\n",
    "        yield a\n",
    "        a, b = b, a + b\n",
    "        \n",
    "x = fib(10)\n",
    "\n",
    "print(next(x))\n",
    "print(next(x))\n",
    "print(next(x))\n",
    "print(next(x))\n",
    "print(next(x))\n",
    "\n",
    "print(\"\\nUsing for loop\")\n",
    "for i in fib(10):\n",
    "    print(i)\n"
   ]
  },
  {
   "cell_type": "code",
   "execution_count": null,
   "id": "db3a1339",
   "metadata": {},
   "outputs": [],
   "source": []
  }
 ],
 "metadata": {
  "kernelspec": {
   "display_name": "Python 3 (ipykernel)",
   "language": "python",
   "name": "python3"
  },
  "language_info": {
   "codemirror_mode": {
    "name": "ipython",
    "version": 3
   },
   "file_extension": ".py",
   "mimetype": "text/x-python",
   "name": "python",
   "nbconvert_exporter": "python",
   "pygments_lexer": "ipython3",
   "version": "3.9.13"
  }
 },
 "nbformat": 4,
 "nbformat_minor": 5
}
